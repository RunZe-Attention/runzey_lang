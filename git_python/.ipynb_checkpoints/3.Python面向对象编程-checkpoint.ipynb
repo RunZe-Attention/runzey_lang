{
 "cells": [
  {
   "cell_type": "markdown",
   "id": "a620265c",
   "metadata": {},
   "source": [
    "# python面向对象编程"
   ]
  },
  {
   "cell_type": "markdown",
   "id": "673ea791",
   "metadata": {},
   "source": [
    "Python 面向对象编程\n",
    "在北宋时期，毕昇发明了活字印刷术。他先将文字做成一个个汉字模具，然后按照稿件把单字挑选出来，排列在字盘内，涂墨印刷成书，印完后再将字模拆出，留待下次排印时再次使用。活字印刷术相对于文字书写更加简洁高效，它对印刷业的兴起发挥了重大作用，甚至推动了欧洲文艺复兴的发展。\n",
    "\n",
    "Python 是一种基于面向对象设计的编程语言，它使用“类”与“对象”进行编程。这里“类”就好比汉字模具，“对象”就好比印刷完的书籍。你不需要一次又一次书写复杂重复的程序，只需要提前编写好需要的类，然后通过类产生具有特定功能的对象即可，这大大提高了 Python 编程的简洁性。\n",
    "\n",
    "下面我们就通过面向对象的角度重新审视 Python 宇宙，相信你可以感受到面向对象带来的代码简化与效率提升。"
   ]
  },
  {
   "cell_type": "markdown",
   "id": "cd5b9bc7",
   "metadata": {},
   "source": [
    "## 1.3.1 面向对象编程理论"
   ]
  },
  {
   "cell_type": "markdown",
   "id": "cf36dcb3",
   "metadata": {},
   "source": [
    "在之前的代码中，我们往往采用典型的面向过程编程方式，定义很多函数与变量：\n",
    "\n",
    "## 定义函数：\n",
    "- 函数1\n",
    "- 函数2\n",
    "- 函数3\n",
    "- 函数4\n",
    "\n",
    "## 定义变量：\n",
    "- 变量1\n",
    "- 变量2\n",
    "- 变量3\n",
    "- 变量4\n",
    "\n",
    "## 通过变量与函数完成操作\n",
    "- 变量3 = 函数1(变量1, 变量2)\n",
    "- 变量5 = 函数2(变量3, 变量4)\n"
   ]
  },
  {
   "cell_type": "markdown",
   "id": "fbc73a89",
   "metadata": {},
   "source": [
    "然而当我们要实现的功能越来越复杂，需要添加的函数与变量也就越来越多。每个函数都有不同的功能，有特定的参数与返回结果，每个变量也有不同的表示意义，程序会变得越来越难以维护。而面向对象通过类与对象的方式解决问题：\n",
    "\n",
    "## 根据功能定义类1\n",
    "类1：\n",
    "    类函数1\n",
    "    \n",
    "变量：\n",
    "\n",
    "    变量1\n",
    "    变量2\n",
    "\n",
    "## 根据功能定义类2\n",
    "类2：\n",
    "\n",
    "    类函数2\n",
    "    类函数3\n",
    "    \n",
    "变量：\n",
    "\n",
    "    变量3\n",
    "    变量4\n",
    "    变量5\n",
    "\n",
    "## 通过对象完成操作\n",
    "对象1 = 类1()\n",
    "对象2 = 类2()\n",
    "对象2.变量5 = 对象2.函数2(对象1.函数1())\n",
    "\n",
    "\n",
    "面向对象编程的出现，使得变量和函数可以根据功能进行整理分类，通过面向对象的模块化编程，大大减轻了复杂程序的设计与维护负担。"
   ]
  },
  {
   "cell_type": "markdown",
   "id": "105672fb",
   "metadata": {},
   "source": [
    "### 1.3.1.1 对象"
   ]
  },
  {
   "cell_type": "markdown",
   "id": "15373567",
   "metadata": {},
   "source": [
    "在 Python 中一切都是对象，就像在现实世界中一切都是对象。\n",
    "\n",
    "- 在现实中：对象可以是有型的，例如一粒米、一名学生、一辆汽车，甚至一个星球。它也可以是无形的，例如一次演出，一场球赛，一次出差。对象可以简单也可以复杂，复杂的对象可以由许多简单的对象构成，整个世界也可以被认为是一个非常复杂的对象。\n",
    "\n",
    "- 在 Python 中：对象可以是有型的，例如一个常量，一个变量，一个序列或字典。它也可以是无形的，例如一个函数。对象可以简单也可以复杂，复杂的对象可以由许多的简单对象组成，整个 Python 程序也可以被当作一个对象。\n",
    "\n",
    "无论在现实中或 Python 中，对象都具有以下三个特性：\n",
    "\n",
    "- 每个对象都有一个独特的名字以区别于其他对象。\n",
    "- 有属性来描述它的某些特征。\n",
    "- 有一组操作，每个操作决定对象的一种行为。"
   ]
  },
  {
   "cell_type": "markdown",
   "id": "a8bcdcbc",
   "metadata": {},
   "source": [
    "### 1.3.1.2 类"
   ]
  },
  {
   "cell_type": "markdown",
   "id": "2a006729",
   "metadata": {},
   "source": [
    "类是用来定义对象的 “模板”。\n",
    "\n",
    "- 在现实中：类是一组具有相同属性和行为的对象的抽象。例如张三、李四虽然每个人有不同的性格与职业，但他们的基本特征是相似的，都有鼻子有眼能吃饭，因此我们统称他们为“人”类，而每一个人就是一个对象。\n",
    "- 在 Python 中：类是一组具有相同数据和操作的对象的模板集合。例如“学生”类可以由学号、姓名、性别、成绩等表示其属性的数据项和对这些数据的录入、修改和显示等操作组成，而每一个特定的学生例如 XiaoHu 就是一个对象。"
   ]
  },
  {
   "cell_type": "markdown",
   "id": "fd61a038",
   "metadata": {},
   "source": [
    "### 1.3.1.3 面向对象编程的特点"
   ]
  },
  {
   "cell_type": "markdown",
   "id": "c639e541",
   "metadata": {},
   "source": [
    "面向对象编程有以下几个基本特征：\n",
    "\n",
    "- 抽象：是将有关事物的特征归纳、集中的过程。通过总结不同“对象”的主要特性设计一个“类”，只强调感兴趣的信息，忽略了与主题无关的信息。\n",
    "- 封装：是把数据和操作集中在对象内部，并尽可能隐藏对象的内部细节。对象像一个黑匣子，你只要知道它提供的功能，不需要了解其内部的实现方式。\n",
    "- 继承：是指一个类可以继承另一个类的特征与功能，并添加自己的特征。例如“吉士堡”继承了“汉堡”类，它有面包、菜与肉，但也有独特的一片芝士。\n",
    "- 多态：指不同的对象进行相同操作时产生多种不同的行为方式。例如“打开”电风扇它会旋转，“打开”电脑屏幕会亮，“打开”抽屉柜子门会开，同样是打开操作，不同对象收到指令后的行为方式是不同的。"
   ]
  },
  {
   "cell_type": "markdown",
   "id": "c582f72b",
   "metadata": {},
   "source": [
    "## 1.3.2 Python面向对象编程\n"
   ]
  },
  {
   "cell_type": "markdown",
   "id": "179e7c66",
   "metadata": {},
   "source": [
    "到目前为止，我们接触的变量、运算符、函数等概念来源于 “面向过程” 的编程方式。在上一节中，你可能会对 names.append('Cryin') 这种写法感到疑惑，为什么序列变量 names 可以通过符号 . 调用 append 函数？这种编程方式便是面向对象编程，在这里 names 是一个对象，对象拥有很多类似 append 的函数，每个对象都属于某一个类。\n",
    "\n",
    "下面我们将介绍 Python 中的面向对象编程方法，并以上一节中的学生成绩管理系统为例方便大家理解。"
   ]
  },
  {
   "cell_type": "markdown",
   "id": "0c0de765",
   "metadata": {},
   "source": [
    "### 1.3.2.1 Python类与对象"
   ]
  },
  {
   "cell_type": "markdown",
   "id": "a14b66d5",
   "metadata": {},
   "source": [
    "Python 使用 class 关键字定义类，类似函数，下面的缩进部分构成了类的主体："
   ]
  },
  {
   "cell_type": "code",
   "execution_count": 1,
   "id": "a432244c",
   "metadata": {},
   "outputs": [],
   "source": [
    "## 定义一个student类\n",
    "class student():\n",
    "    pass"
   ]
  },
  {
   "cell_type": "markdown",
   "id": "f71c307f",
   "metadata": {},
   "source": [
    "使用类的名字和一对括号可以创建类的对象："
   ]
  },
  {
   "cell_type": "code",
   "execution_count": 2,
   "id": "7b561d32",
   "metadata": {},
   "outputs": [],
   "source": [
    "xiaohu = student()\n",
    "xiaoming = student()"
   ]
  },
  {
   "cell_type": "code",
   "execution_count": 3,
   "id": "c90cc892",
   "metadata": {},
   "outputs": [
    {
     "name": "stdout",
     "output_type": "stream",
     "text": [
      "<class '__main__.student'>\n",
      "<class '__main__.student'>\n"
     ]
    }
   ],
   "source": [
    "print(type(xiaohu))\n",
    "print(type(xiaoming))"
   ]
  },
  {
   "cell_type": "markdown",
   "id": "44f44475",
   "metadata": {},
   "source": [
    "### 1.3.2.2 类与对象中的变量"
   ]
  },
  {
   "cell_type": "markdown",
   "id": "33626b83",
   "metadata": {},
   "source": [
    "我们提到类与对象都有包含一组属性与方法，在 Python 中类的变量用于表示类的属性。student 表示学生类，在我们的系统中我们只关注学生的姓名、数学成绩和语文成绩而不考虑其他，分别用类变量 name, Math_score, Chinese_score 表示。这体现了面向对象编程的”抽象性“"
   ]
  },
  {
   "cell_type": "code",
   "execution_count": 6,
   "id": "707b218d",
   "metadata": {},
   "outputs": [],
   "source": [
    "## 创建一个student类\n",
    "class student():\n",
    "    ## 在类的内部定义三个内部变量，并初始化他们\n",
    "    name = \"undefined\"\n",
    "    math_score = -1\n",
    "    language_score = -1\n",
    "    \n",
    "    \n"
   ]
  },
  {
   "cell_type": "markdown",
   "id": "a0e5982b",
   "metadata": {},
   "source": [
    "在 Python 中对象拥有与类相同的数据和操作，因此通过类创建的对象也拥有相同的变量。我们使用 . 符号来引用对象或类的变量与函数:"
   ]
  },
  {
   "cell_type": "code",
   "execution_count": 8,
   "id": "b0f3263d",
   "metadata": {},
   "outputs": [
    {
     "name": "stdout",
     "output_type": "stream",
     "text": [
      "undefined\n",
      "-1\n",
      "-1\n"
     ]
    }
   ],
   "source": [
    "xiaohu = student()\n",
    "print(xiaohu.name)\n",
    "print(xiaohu.math_score)\n",
    "print(xiaohu.language_score)"
   ]
  },
  {
   "cell_type": "code",
   "execution_count": 10,
   "id": "3273bedf",
   "metadata": {},
   "outputs": [
    {
     "name": "stdout",
     "output_type": "stream",
     "text": [
      "xiaohu\n",
      "88\n",
      "99\n"
     ]
    }
   ],
   "source": [
    "xiaohu.name=\"xiaohu\"\n",
    "xiaohu.math_score = 88\n",
    "xiaohu.language_score = 99\n",
    "print(xiaohu.name)\n",
    "print(xiaohu.math_score)\n",
    "print(xiaohu.language_score)"
   ]
  },
  {
   "cell_type": "code",
   "execution_count": 11,
   "id": "e40e4bc0",
   "metadata": {},
   "outputs": [
    {
     "name": "stdout",
     "output_type": "stream",
     "text": [
      "xiaohu\n",
      "runze\n"
     ]
    }
   ],
   "source": [
    "student.name=\"runze\"\n",
    "print(xiaohu.name)\n",
    "print(student.name)"
   ]
  },
  {
   "cell_type": "code",
   "execution_count": 13,
   "id": "8019d653",
   "metadata": {},
   "outputs": [
    {
     "name": "stdout",
     "output_type": "stream",
     "text": [
      "runze\n"
     ]
    }
   ],
   "source": [
    "runze = student()\n",
    "print(runze.name)"
   ]
  },
  {
   "cell_type": "markdown",
   "id": "ab5bf24b",
   "metadata": {},
   "source": [
    "在这里我们要注意区分两个概念，类变量与对象变量，在上述代码中 student.name 是类变量，xiaohu.name 是对象变量。\n",
    "\n",
    "类变量属于类，更改类变量会影响所有后续由该类创建对象的属性。\n",
    "对象变量属于对象，更改对象变量只影响该对象的属性。"
   ]
  },
  {
   "cell_type": "markdown",
   "id": "9ec768f9",
   "metadata": {},
   "source": [
    "### 1.3.2.3 类与对象中的函数"
   ]
  },
  {
   "cell_type": "markdown",
   "id": "7aee96fc",
   "metadata": {},
   "source": [
    "在 Python 中类函数用于表示类的操作，它又被称作为“方法”。它们与之前我们学到的函数类似，但是类函数必须有一个额外的 `self 参数`："
   ]
  },
  {
   "cell_type": "code",
   "execution_count": 15,
   "id": "900e9c4d",
   "metadata": {},
   "outputs": [
    {
     "name": "stdout",
     "output_type": "stream",
     "text": [
      "s1\n"
     ]
    }
   ],
   "source": [
    "class student():\n",
    "    def print_name(self,):\n",
    "        print(self.name)\n",
    "    \n",
    "    name = \"undefined\"\n",
    "    math_score = -1\n",
    "    language_score = -1\n",
    "    \n",
    "s1 = student()\n",
    "s1.name = \"s1\"\n",
    "s1.print_name()"
   ]
  },
  {
   "cell_type": "markdown",
   "id": "7796c4f1",
   "metadata": {},
   "source": [
    "### 值得一提的是 python类中的重要关键字`self`指向的就是对象本身，上例中 self指代的就是s1对象"
   ]
  },
  {
   "cell_type": "markdown",
   "id": "db24b77b",
   "metadata": {},
   "source": [
    "self 函数用于在类的内部指向对象本身，它是用于连接 类 与 对象 的工具，也是 Python 面向对象编程“多态”特性的一种体现。\n",
    "\n",
    "例如在上述代码，我们使用 student 类产生对象 xiaohu，那么 self 就代指 xiaohu；如果我们产生对象 xiaoming，那么 self 就会自动代指 xiaoming。因此 self 参数可以根据不同对象产生不同操作，这体现了面向对象编程的“多态性”。\n",
    "\n",
    "我们还可以给 student 创建一个用于更改成绩的方法，这样我们后续就不需要通过赋值符号更改对象内的数据："
   ]
  },
  {
   "cell_type": "code",
   "execution_count": 19,
   "id": "3623a1e3",
   "metadata": {},
   "outputs": [
    {
     "name": "stdout",
     "output_type": "stream",
     "text": [
      "course not in current system\n"
     ]
    }
   ],
   "source": [
    "class student():\n",
    "    def modify_score(self,course_name,score):\n",
    "        if course_name == \"math\":\n",
    "            self.math_score=score\n",
    "        elif course_name == \"language\":\n",
    "            self.language_score=score\n",
    "        else:\n",
    "            print(\"course not in current system\")\n",
    "    \n",
    "    def print_name(self,):\n",
    "        print(self.name) \n",
    "            \n",
    "    name = \"undefined\"\n",
    "    math_score=-1\n",
    "    language_score=-1\n",
    "    \n",
    "s2 = student()\n",
    "s2.modify_score(\"math\",100)\n",
    "s2.modify_score(\"language\",200)\n",
    "s2.modify_score(\"history\",200)\n",
    "\n",
    "    "
   ]
  },
  {
   "cell_type": "markdown",
   "id": "d19710a3",
   "metadata": {},
   "source": [
    "随着系统的迭代，系统的复杂度将会直线上升。假设当我们有了十多种课程后，采用 change_score 函数要比直接为一个个课程的成绩赋值更加优雅，用户不再需要了解 student 类中有定义哪些变量等复杂细节，只需要了解 change_score 函数的用法便可以更改学生成绩，这体现了面向对象编程的“封装性”。"
   ]
  },
  {
   "cell_type": "markdown",
   "id": "30bf0914",
   "metadata": {},
   "source": [
    "### 1.3.2.4 __init__ 方法"
   ]
  },
  {
   "cell_type": "markdown",
   "id": "014c1212",
   "metadata": {},
   "source": [
    "在之前的代码中，我们采用赋值符号来为对象产生初始值：\n",
    "\n",
    "xiaohu.name = 'XiaoHu'\n",
    "\n",
    "xiaohu.Math_score = 65\n",
    "\n",
    "xiaohu.Chinese_score = 55"
   ]
  },
  {
   "cell_type": "markdown",
   "id": "ef4304a9",
   "metadata": {},
   "source": [
    "然而这种方式或许有些麻烦，其实 Python 类中有一种 __init__ 方法专门用于初始化对象。这个方法在通过类创建对象时被自动调用，并按照你的想法初始化该对象。下面我们通过 __init__ 方法重新定义 student 类：\n",
    "\n",
    "其实就是C++类中的构造函数"
   ]
  },
  {
   "cell_type": "code",
   "execution_count": 23,
   "id": "b2d40793",
   "metadata": {},
   "outputs": [
    {
     "name": "stdout",
     "output_type": "stream",
     "text": [
      "s3\n",
      "1000\n",
      "2000\n"
     ]
    }
   ],
   "source": [
    "class student():\n",
    "    def __init__(self,name,math_score,language_score):\n",
    "        self.name = name\n",
    "        self.math_score=math_score\n",
    "        self.language_score=language_score\n",
    "    \n",
    "    def modify_score(self,course_name,score):\n",
    "        if course_name == \"math\":\n",
    "            self.math_score=score\n",
    "        elif course_name == \"language\":\n",
    "            self.language_score=score\n",
    "        else:\n",
    "            print(\"course not in current system\")\n",
    "    \n",
    "    def print_name(self,):\n",
    "        print(self.name) \n",
    "    \n",
    "    def print_math_score(self,):\n",
    "        print(self.math_score)\n",
    "        \n",
    "    def print_language_score(self,):\n",
    "        print(self.language_score)\n",
    "        \n",
    "    \"\"\"   \n",
    "    这种定义已经没有意义\n",
    "    name = \"undefined\"\n",
    "    math_score=-1\n",
    "    language_socre=-1\n",
    "    \"\"\"\n",
    "    \n",
    "    \n",
    "\n",
    "s3 = student(\"s3\",1000,2000)\n",
    "s3.print_name()\n",
    "s3.print_math_score()\n",
    "s3.print_language_score()\n",
    "            \n",
    "    "
   ]
  },
  {
   "cell_type": "markdown",
   "id": "c4f1db93",
   "metadata": {},
   "source": [
    "## 1.3.3 Python万物皆对象"
   ]
  },
  {
   "cell_type": "markdown",
   "id": "dbe54fe2",
   "metadata": {},
   "source": [
    "对象是 Python 中最核心的概念，犹如道教中 “一生二，二生三，三生万物”，Python 中万物皆源于对象。下面我们在面向对象编程的角度回顾之前学习的变量、函数以及数据结构。"
   ]
  },
  {
   "cell_type": "markdown",
   "id": "921262bc",
   "metadata": {},
   "source": [
    "### 1.3.3.1 重识变量"
   ]
  },
  {
   "cell_type": "code",
   "execution_count": 25,
   "id": "7330d39b",
   "metadata": {},
   "outputs": [
    {
     "name": "stdout",
     "output_type": "stream",
     "text": [
      "<class 'int'>\n"
     ]
    }
   ],
   "source": [
    "variable = 1\n",
    "print(type(variable))"
   ]
  },
  {
   "cell_type": "markdown",
   "id": "09b7245e",
   "metadata": {},
   "source": [
    "to_bytes 将 int 对象转化成 byte 对象 b'\\x00x\\01' 因为整数 1 的二进制编码是 0001。"
   ]
  },
  {
   "cell_type": "code",
   "execution_count": 30,
   "id": "e7c53812",
   "metadata": {},
   "outputs": [
    {
     "name": "stdout",
     "output_type": "stream",
     "text": [
      "b'\\x00\\x01'\n",
      "<class 'bytes'>\n"
     ]
    }
   ],
   "source": [
    "variable_byte =  variable.to_bytes(2,byteorder = \"big\")\n",
    "print(variable_byte)\n",
    "print(type(variable_byte))"
   ]
  },
  {
   "cell_type": "markdown",
   "id": "9eddcdc2",
   "metadata": {},
   "source": [
    "### 1.3.3.2 重识常量"
   ]
  },
  {
   "cell_type": "markdown",
   "id": "7f8f0466",
   "metadata": {},
   "source": [
    "Python中的常量也是`类`派生出来的`对象` 其中最常用到 对象 这一特性的常量是 字符串常量\n",
    "字符串常用方法如下：\n",
    "\n",
    "- format(): 用于从其他信息中构造字符串。\n",
    "- replace(): 用于替代字符串中的某个字符或子串。\n",
    "- split(): 用于通过某种字符分隔字符串。\n",
    "- upper(): 把字符串转换成大写。\n",
    "- lower(): 把字符串转化成小写。"
   ]
  },
  {
   "cell_type": "code",
   "execution_count": 4,
   "id": "6eaf60f1",
   "metadata": {},
   "outputs": [
    {
     "name": "stdout",
     "output_type": "stream",
     "text": [
      "Learn Python in a smart way!!\n",
      "Learn PHP in a hard way!!\n"
     ]
    }
   ],
   "source": [
    "## format 方法使用 {数字 i} 对应 (第i个变量) 来控制用于构造字符串的参数 \n",
    "\n",
    "str1 = \"Learn {0} in a {1} way!!\".format('Python','smart')\n",
    "print(str1)\n",
    "str2 = \"Learn {0} in a {1} way!!\".format('PHP',\"hard\")\n",
    "print(str2)\n"
   ]
  },
  {
   "cell_type": "code",
   "execution_count": 10,
   "id": "85e9b5f9",
   "metadata": {},
   "outputs": [
    {
     "name": "stdout",
     "output_type": "stream",
     "text": [
      "learn python in hard hard way\n"
     ]
    }
   ],
   "source": [
    "## replace: 替换字符串(可以替换多个要被替换的字符串)\n",
    "str1 = \"learn python in smart smart way\".replace(\"smart\",\"hard\")\n",
    "print(str1)"
   ]
  },
  {
   "cell_type": "code",
   "execution_count": 8,
   "id": "bb0bc9f1",
   "metadata": {},
   "outputs": [
    {
     "name": "stdout",
     "output_type": "stream",
     "text": [
      "['learn', 'python', 'ina', 'smart', 'way']\n"
     ]
    }
   ],
   "source": [
    "## split 方法使用一个或多个参数分隔字符串，并返回子串构成的序列\n",
    "str1 = \"learn python ina smart way\".split(\" \")\n",
    "print(str1)\n"
   ]
  },
  {
   "cell_type": "code",
   "execution_count": 9,
   "id": "52e05c69",
   "metadata": {},
   "outputs": [
    {
     "name": "stdout",
     "output_type": "stream",
     "text": [
      "LEARN PYTHON IN A SMART WAY!!\n",
      "learn python in a smart way!!\n"
     ]
    }
   ],
   "source": [
    "## upper 和 lower 方法转化大小写\n",
    "print(\"Learn Python in a smart way!!\".upper())\n",
    "print(\"Learn Python in a smart way!!\".lower())"
   ]
  },
  {
   "cell_type": "markdown",
   "id": "42fff3de",
   "metadata": {},
   "source": [
    "### 1.3.3.3 重识函数\n",
    "更神奇的是，在 Python 中函数也是对象，因此函数也有自己的数据与方法\n",
    "\n"
   ]
  },
  {
   "cell_type": "code",
   "execution_count": 12,
   "id": "cf5c2c2c",
   "metadata": {},
   "outputs": [
    {
     "name": "stdout",
     "output_type": "stream",
     "text": [
      "check_sum\n"
     ]
    }
   ],
   "source": [
    "def check_sum(n1,n2,target_num):\n",
    "    num1 = n1\n",
    "    num2 = n2\n",
    "    return num1 + num2 == target_num\n",
    "\n",
    "print(check_sum.__name__) ## 通过__name__属性返回函数名称"
   ]
  },
  {
   "cell_type": "markdown",
   "id": "68428d04",
   "metadata": {},
   "source": [
    "### 1.3.3.4 重识数据结构(list dict set tuple等)\n",
    "现在可以想象的到,python中数据结构也是类派生出来的对象,因为python位这些数据结构提供了很多的类成员方法,比如提到的append、extend"
   ]
  },
  {
   "cell_type": "code",
   "execution_count": 25,
   "id": "5ab7a83f",
   "metadata": {},
   "outputs": [
    {
     "name": "stdout",
     "output_type": "stream",
     "text": [
      "append之后的l:[1, 2, 3, 4, 5]\n",
      "pop之后的l:[2, 3, 4, 5]\n",
      "insert之后的l:[100, 2, 3, 4, 5]\n"
     ]
    }
   ],
   "source": [
    "l = [1,2,3,4]\n",
    "l.append(5)\n",
    "print(\"append之后的l:{0}\".format(l))\n",
    "l.pop(0) ## 删除第0个element 代替了del操作符\n",
    "print(\"pop之后的l:{0}\".format(l))\n",
    "l.insert(0,100) ## 将100插入第0位置\n",
    "print(\"insert之后的l:{0}\".format(l))\n"
   ]
  },
  {
   "cell_type": "markdown",
   "id": "1aa05ed3",
   "metadata": {},
   "source": [
    "同样的，在元组、字典、集合等数据结构中也提供了很多方法，在此将常用的方法总结如下：\n",
    "\n",
    "列表\n",
    "\n",
    "- append(x) 把元素 x 放在入列表尾部\n",
    "- count(x) 统计元素 x 在列表中出现次数\n",
    "- extent(seq) 把新列表 seq 合并到列表尾部\n",
    "- index(x) 返回元素 x 在列表第一次出现的位置\n",
    "- insert(index, x) 把元素 x 插入到 index 位置\n",
    "- pop(index) 删除并返回 index 所在位置的元素\n",
    "- remove(x) 删除出现的第一个 x 元素\n",
    "- reverse() 颠倒列表顺序\n",
    "- sort() 对列表进行排序\n",
    "\n",
    "字典\n",
    "\n",
    "- clear() 清除字典内所有元素\n",
    "- copy() 返回字典的一个复制\n",
    "- has_key(key) 检查 key 是否在字典中\n",
    "- items() 返回一个含由 (key, value) 格式元组构成的列表\n",
    "- keys() 返回由键构成列表\n",
    "- values() 返回由值构成的列表\n",
    "- setdefault(key, default) 为键 key 添加默认值 default\n",
    "- pop(key) 删除 key 并返回对应的值\n",
    "\n",
    "集合\n",
    "\n",
    "- add(x) 向集合中添加元素 x\n",
    "- clear() 清空集合\n",
    "- copy() 返回集合的一个复制\n",
    "- difference(set) 返回集合与另一个集合的差集\n",
    "- discard(x) 删除元素 x\n",
    "- isdisjoint(set) 判断两个集合是否有交集\n",
    "- issubset(set) 判断新集合 set 是否是集合的子集\n",
    "- issuperset() 判断新集合 set 是否是集合的超集"
   ]
  },
  {
   "cell_type": "markdown",
   "id": "4b8efc21",
   "metadata": {},
   "source": [
    "### 1.3.3.5 重识程序\n",
    "在某种意义上，我们也可以认为 Python 程序是一个对象，它也有自己的数据和方法。其中 __name__ 就是它的一个变量，我们并没有定义过这个变量，但由于它是程序的对象变量，因此可以直接调用。"
   ]
  },
  {
   "cell_type": "markdown",
   "id": "855d0fa2",
   "metadata": {},
   "source": [
    "## 1.3.4 练习\n",
    "### 1.3.4.1 重构成绩管理系统\n",
    "\n",
    "此练习是开放题，使用 面向对象 的编程方法重构之前的成绩管理系统，并完成之前的任务。\n",
    "\n",
    "- Task 1. 在上一次期末考试中，XiaoHu 考了数学 65 分，语文 55 分；XiaoMing 考了数学 80 分，语文92 分；XiaoWei 考了数学 95 分，语文 98 分，以此建立学生成绩管理系统。\n",
    "\n",
    "- Task 2. 在本次期末考试中，XiaoHu 考了数学 95 分，语文 85 分；XiaoMing 考了数学 75 分，语文 71 分；XiaoWei 考了数学 92 分，语文 93 分，以此对之前的成绩进行更新。\n",
    "\n",
    "- Task 3. 由于 XiaoMing 的成绩出现了大幅度下滑，家长决定要 XiaoMing 转学到另一所高中，以此在系统中删除 XiaoMing 的信息。\n",
    "\n",
    "- Task 4. 学校新转来的学生 Cryin 本次考试成绩为 数学 87 分，语文 88 分，在系统中录入 Cryin 的成绩。"
   ]
  },
  {
   "cell_type": "code",
   "execution_count": 33,
   "id": "cd04f74a",
   "metadata": {},
   "outputs": [],
   "source": [
    "class student():\n",
    "    def __init__(self, name, Math_score, Chinese_score):\n",
    "        self.name = name\n",
    "        self.Math_score = Math_score\n",
    "        self.Chinese_score = Chinese_score\n",
    "    \n",
    "    ## repr 函数用于定义对象被输出时的输出结果\n",
    "    def __repr__(self):\n",
    "        return str((self.name, self.Math_score, self.Chinese_score))\n",
    "    \n",
    "    def change_score(self, course_name, score):\n",
    "        if course_name == 'Math':\n",
    "            self.Math_score = score\n",
    "        elif course_name == 'Chinese':\n",
    "            self.Chinese_score = score\n",
    "        else:\n",
    "            print(course_name, \" course is still not in current system\")\n",
    "    \n",
    "    def print_name(self,):\n",
    "        print(self.name)"
   ]
  },
  {
   "cell_type": "code",
   "execution_count": 34,
   "id": "881c963c",
   "metadata": {},
   "outputs": [
    {
     "name": "stdout",
     "output_type": "stream",
     "text": [
      "('runze', 100, 100)\n"
     ]
    }
   ],
   "source": [
    "## __repr__函数介绍\n",
    "##   显示指定了 当我们直接print一个对象是 具体要输出哪些信息\n",
    "##   具体使用方式如下\n",
    "##   未指定的话 返回的是一个对象地址\n",
    "\n",
    "repr1 = student(\"runze\",100,100)\n",
    "print(repr1)"
   ]
  },
  {
   "cell_type": "code",
   "execution_count": 35,
   "id": "a5e6da66",
   "metadata": {},
   "outputs": [
    {
     "name": "stdout",
     "output_type": "stream",
     "text": [
      "{'XiaoHu': ('XiaoHu', 65, 55), 'XiaoMing': ('XiaoMing', 80, 92), 'XiaoWei': ('XiaoHu', 95, 98)}\n",
      "{'XiaoHu': ('XiaoHu', 95, 85), 'XiaoMing': ('XiaoMing', 75, 71), 'XiaoWei': ('XiaoHu', 92, 93)}\n",
      "{'XiaoHu': ('XiaoHu', 95, 85), 'XiaoWei': ('XiaoHu', 92, 93)}\n",
      "{'XiaoHu': ('XiaoHu', 95, 85), 'XiaoWei': ('XiaoHu', 92, 93), 'Cryin': ('Cryin', 87, 88)}\n"
     ]
    }
   ],
   "source": [
    "## Task1\n",
    "ab = {}\n",
    "ab.setdefault('XiaoHu', student('XiaoHu', 65, 55))\n",
    "ab.setdefault('XiaoMing', student('XiaoMing', 80, 92))\n",
    "ab.setdefault('XiaoWei', student('XiaoHu', 95, 98))\n",
    "print(ab)\n",
    "\n",
    "## Task2\n",
    "ab['XiaoHu'].change_score('Math', 95)\n",
    "ab['XiaoMing'].change_score('Math', 75)\n",
    "ab['XiaoWei'].change_score('Math', 92)\n",
    "\n",
    "ab['XiaoHu'].change_score('Chinese', 85)\n",
    "ab['XiaoMing'].change_score('Chinese', 71)\n",
    "ab['XiaoWei'].change_score('Chinese', 93)\n",
    "print(ab)\n",
    "\n",
    "## Task3\n",
    "ab.pop('XiaoMing')\n",
    "print(ab)\n",
    "\n",
    "## Task4\n",
    "ab.setdefault('Cryin', student('Cryin', 87, 88))\n",
    "print(ab)"
   ]
  },
  {
   "cell_type": "code",
   "execution_count": null,
   "id": "d156ecc4",
   "metadata": {},
   "outputs": [],
   "source": []
  }
 ],
 "metadata": {
  "kernelspec": {
   "display_name": "Python 3 (ipykernel)",
   "language": "python",
   "name": "python3"
  },
  "language_info": {
   "codemirror_mode": {
    "name": "ipython",
    "version": 3
   },
   "file_extension": ".py",
   "mimetype": "text/x-python",
   "name": "python",
   "nbconvert_exporter": "python",
   "pygments_lexer": "ipython3",
   "version": "3.8.16"
  }
 },
 "nbformat": 4,
 "nbformat_minor": 5
}
