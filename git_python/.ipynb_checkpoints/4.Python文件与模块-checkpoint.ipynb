{
 "cells": [
  {
   "cell_type": "markdown",
   "id": "354190dd",
   "metadata": {},
   "source": [
    "# Python 文件与模块"
   ]
  },
  {
   "cell_type": "markdown",
   "id": "8c636204",
   "metadata": {},
   "source": [
    "- Python文件操作\n",
    "- Python模块的制作与使用\n"
   ]
  },
  {
   "cell_type": "markdown",
   "id": "0814fa66",
   "metadata": {},
   "source": [
    "### 1.4.1 文件"
   ]
  },
  {
   "cell_type": "markdown",
   "id": "cdd87516",
   "metadata": {},
   "source": [
    "经过几百万年的演化，人类进化出了其他动物没有的“长期记忆”，进而拥有了语言、文化甚至发展出文明，走上了一条未曾设想的道路。在人类大脑中，“短期记忆”由海马体负责，“长期记忆”则由大脑皮层中的额叶负责；在计算机中也同样存在长短期记忆，短期记忆由程序中的变量负责，长期记忆则交给电脑中的文件系统。"
   ]
  },
  {
   "cell_type": "markdown",
   "id": "7abe4a5f",
   "metadata": {},
   "source": [
    "### 1.4.1.1 open函数"
   ]
  },
  {
   "cell_type": "markdown",
   "id": "cba708e8",
   "metadata": {},
   "source": [
    "Python open( ) 函数用于打开一个文件，并返回文件对象，在对文件进行处理过程都需要使用到这个函数。\n",
    "Python中 文件也被认为一个对象\n",
    "犹如Unix哲学一样 万物皆文件"
   ]
  },
  {
   "cell_type": "markdown",
   "id": "e88faa03",
   "metadata": {},
   "source": [
    "- 在Unix系系统中写入文件:Mac / Linux: `echo Hello world >> test.txt`"
   ]
  },
  {
   "cell_type": "markdown",
   "id": "30477ab8",
   "metadata": {},
   "source": [
    "open(file, mode) 函数主要有 file 和 mode 两个参数，其中 file 为需要读写文件的路径。mode 为读取文件时的模式，常用的模式有以下几个：\n",
    "\n",
    "- r：以字符串的形式读取文件。 read\n",
    "- rb：以二进制的形式读取文件。 read as bin\n",
    "- w：写入文件。  write\n",
    "- a：追加写入文件。 append\n",
    "\n",
    "不同的模式下对象具有的功能也不一样"
   ]
  },
  {
   "cell_type": "code",
   "execution_count": 2,
   "id": "372058db",
   "metadata": {},
   "outputs": [
    {
     "name": "stdout",
     "output_type": "stream",
     "text": [
      "<class '_io.TextIOWrapper'>\n"
     ]
    }
   ],
   "source": [
    "file_handle = open(\"test.txt\",\"r\")\n",
    "print(type(file_handle)) ## file_handle在python中是一个IO对象"
   ]
  },
  {
   "cell_type": "markdown",
   "id": "486a4f91",
   "metadata": {},
   "source": [
    "### 1.4.1.2 文件对象"
   ]
  },
  {
   "cell_type": "markdown",
   "id": "d74ce790",
   "metadata": {},
   "source": [
    "- close( ): 关闭文件 同一时间 一个文件只能被单独一个对象所持有,如果其他对象想持有文件,需要当前持有对象释放文件\n",
    "- 在 r 与 rb 模式下：\n",
    "    - read(): 读取整个文件\n",
    "    - readline(): 读取文件的一行\n",
    "    - readlines(): 读取文件的所有行\n",
    "    \n",
    "- 在 w 与 a 模式下：\n",
    "    - write():\n",
    "    - writelines():\n",
    "    \n",
    "    \n"
   ]
  },
  {
   "cell_type": "code",
   "execution_count": 7,
   "id": "3edb761e",
   "metadata": {},
   "outputs": [
    {
     "name": "stdout",
     "output_type": "stream",
     "text": [
      "\n"
     ]
    }
   ],
   "source": [
    "## 读取文件中的全部内容\n",
    "content = file_handle.read()\n",
    "print(content)\n",
    "file_handle.close()"
   ]
  },
  {
   "cell_type": "markdown",
   "id": "3ae459ef",
   "metadata": {},
   "source": [
    "`需要注意一点`"
   ]
  },
  {
   "cell_type": "code",
   "execution_count": 20,
   "id": "d465e474",
   "metadata": {},
   "outputs": [
    {
     "name": "stdout",
     "output_type": "stream",
     "text": [
      "Hello world!\n",
      "Hello Python!!\n",
      "Hello smart way!!!\n",
      "--------------\n",
      "\n"
     ]
    }
   ],
   "source": [
    "file = open(\"test.txt\",\"r\")\n",
    "print(file.read())\n",
    "print(\"--------------\")\n",
    "print(file.readline())\n",
    "file.close()\n"
   ]
  },
  {
   "cell_type": "markdown",
   "id": "2bebe05f",
   "metadata": {},
   "source": [
    "发现这里readline没有生效?\n",
    "\n",
    "open 函数返回的是一个指针，类似于你在 Microsolf Word 文档里编辑文档时闪烁的光标。在执行过 file.read( ) 操作后，由于读取了整个文件，这个指针已经来到了文件末尾，因此 file.readline( ) 没有获取到文件的内容。这种情况我们可以通过 close 方法关闭文件后再重新打开。"
   ]
  },
  {
   "cell_type": "code",
   "execution_count": 15,
   "id": "5debbf9b",
   "metadata": {},
   "outputs": [
    {
     "name": "stdout",
     "output_type": "stream",
     "text": [
      "<class '_io.TextIOWrapper'>\n",
      "Hello world!\n",
      "\n",
      "Hello Python!!\n",
      "\n",
      "Hello smart way!!!\n"
     ]
    }
   ],
   "source": [
    "file_handle = open(\"test.txt\",\"r\")\n",
    "print(type(file_handle)) ## file_handle在python中是一个IO对象\n",
    "\n",
    "content = file_handle.readline()\n",
    "print(content)\n",
    "content = file_handle.readline()\n",
    "print(content)\n",
    "content = file_handle.readline()\n",
    "print(content)\n",
    "file_handle.close()"
   ]
  },
  {
   "cell_type": "markdown",
   "id": "69ab56a8",
   "metadata": {},
   "source": [
    "在操作文件时，我们一定要注意每次操作结束后，及时通过 close( ) 方法关闭文件"
   ]
  },
  {
   "cell_type": "markdown",
   "id": "4347c050",
   "metadata": {},
   "source": [
    "以覆盖的方式写入文件"
   ]
  },
  {
   "cell_type": "code",
   "execution_count": 16,
   "id": "efa24e21",
   "metadata": {},
   "outputs": [],
   "source": [
    "## 以 w 模式打开文件test.txt\n",
    "file_handle=open(\"test.txt\",\"w\")\n",
    "## 创建需要追加的字符串变量\n",
    "content = \"Hello world!\\nHello Python!!\\n\"\n",
    "## 写入到 test.txt 文件中\n",
    "file_handle.write(content)\n",
    "## 关闭文件对象\n",
    "file_handle.close()\n"
   ]
  },
  {
   "cell_type": "code",
   "execution_count": 17,
   "id": "6c9612ff",
   "metadata": {},
   "outputs": [
    {
     "name": "stdout",
     "output_type": "stream",
     "text": [
      "Hello world!\n",
      "Hello Python!!\n",
      "\n"
     ]
    }
   ],
   "source": [
    "## 这里可以看到 w 是以覆盖的方式写入文件\n",
    "with open(\"test.txt\",\"r\") as f:\n",
    "    print(f.read())"
   ]
  },
  {
   "cell_type": "markdown",
   "id": "9d4f0e4b",
   "metadata": {},
   "source": [
    "以追加的方式写入文件"
   ]
  },
  {
   "cell_type": "code",
   "execution_count": 18,
   "id": "10671c52",
   "metadata": {},
   "outputs": [
    {
     "name": "stdout",
     "output_type": "stream",
     "text": [
      "Hello world!\n",
      "Hello Python!!\n",
      "Hello smart way!!!\n"
     ]
    }
   ],
   "source": [
    "## 以 w 模式打开文件test.txt\n",
    "file = open('test.txt', 'a')\n",
    "## 创建需要追加的字符串变量\n",
    "content = 'Hello smart way!!!'\n",
    "## 写入到 test.txt 文件中\n",
    "file.write(content)\n",
    "## 关闭文件对象\n",
    "file.close()\n",
    "\n",
    "## 这里有个小trick 使用with方法会自动帮你close掉\n",
    "with open(\"test.txt\",\"r\") as f:\n",
    "    print(f.read())"
   ]
  },
  {
   "cell_type": "markdown",
   "id": "81961aa1",
   "metadata": {},
   "source": [
    "## 1.4.2 模块"
   ]
  },
  {
   "cell_type": "markdown",
   "id": "db5d03e7",
   "metadata": {},
   "source": [
    "在普罗米修斯为人类带来火种后，人类制造出了各种各样的工具。工具的产生大大提高了人类的生产力，使人类从石器时代步入铁器时代、蒸汽时代以及现在的信息时代。\n",
    "\n",
    "在之前的学习中，为了更简洁高效地完成任务，我们引入了函数、数据结构以及面向对象编程等工具。但每次我们在这个代码写完后，在下一个代码中只能把代码复制粘贴过去，而模块可以帮助我们把一个代码添加到另一个代码中，真正实现了工具等复用性。\n",
    "\n",
    "编写模块的方式有很多，其中最简单的模块就是创建一个包含很多函数、变量以及类并以 .py 为后缀的文件。下面我们把上一节中实现的 class 类保存在 student.py 文件中："
   ]
  },
  {
   "cell_type": "code",
   "execution_count": 27,
   "id": "8b7d96fe",
   "metadata": {},
   "outputs": [],
   "source": [
    "file = open('student.py', 'w',encoding=\"utf-8\")\n",
    "file.write(\"\"\"class student():\n",
    "    def __init__(self, name, Math_score, Chinese_score):\n",
    "        self.name = name\n",
    "        self.Math_score = Math_score\n",
    "        self.Chinese_score = Chinese_score\n",
    "    \n",
    "    ## repr 函数用于定义对象被输出时的输出结果\n",
    "    def __repr__(self):\n",
    "        return str((self.name, self.Math_score, self.Chinese_score))\n",
    "    \n",
    "    def change_score(self, course_name, score):\n",
    "        if course_name == 'Math':\n",
    "            self.Math_score = score\n",
    "        elif course_name == 'Chinese':\n",
    "            self.Chinese_score = score\n",
    "        else:\n",
    "            print(course_name, \" course is still not in current system\")\n",
    "    \n",
    "    def print_name(self,):\n",
    "        print(self.name)\n",
    "    \n",
    "    name = 'Undefined'\n",
    "    Math_score = None\n",
    "    Chinese_score = None\"\"\")\n",
    "file.close()"
   ]
  },
  {
   "cell_type": "code",
   "execution_count": 28,
   "id": "a0d58ba4",
   "metadata": {},
   "outputs": [],
   "source": [
    "## 看下student.py"
   ]
  },
  {
   "cell_type": "code",
   "execution_count": 29,
   "id": "05717b8c",
   "metadata": {},
   "outputs": [
    {
     "name": "stdout",
     "output_type": "stream",
     "text": [
      "class student():\n",
      "    def __init__(self, name, Math_score, Chinese_score):\n",
      "        self.name = name\n",
      "        self.Math_score = Math_score\n",
      "        self.Chinese_score = Chinese_score\n",
      "    \n",
      "    ## repr 函数用于定义对象被输出时的输出结果\n",
      "    def __repr__(self):\n",
      "        return str((self.name, self.Math_score, self.Chinese_score))\n",
      "    \n",
      "    def change_score(self, course_name, score):\n",
      "        if course_name == 'Math':\n",
      "            self.Math_score = score\n",
      "        elif course_name == 'Chinese':\n",
      "            self.Chinese_score = score\n",
      "        else:\n",
      "            print(course_name, \" course is still not in current system\")\n",
      "    \n",
      "    def print_name(self,):\n",
      "        print(self.name)\n",
      "    \n",
      "    name = 'Undefined'\n",
      "    Math_score = None\n",
      "    Chinese_score = None\n"
     ]
    }
   ],
   "source": [
    "with open(\"student.py\",\"r\",encoding=\"utf-8\") as f:\n",
    "    print(f.read())"
   ]
  },
  {
   "cell_type": "markdown",
   "id": "331b2a04",
   "metadata": {},
   "source": [
    "使用 import 关键字可以把一个模块引入到一个程序来使用它的功能。记得在上一节中我们说过一个程序也可以是一个对象，这时 student.py 程序就成了一个对象，而里面的 student 类便成了它的对象变量。"
   ]
  },
  {
   "cell_type": "code",
   "execution_count": 31,
   "id": "31f09c7d",
   "metadata": {},
   "outputs": [],
   "source": [
    "## 引入student这个模块/程序对象\n",
    "import student\n",
    "\n"
   ]
  },
  {
   "cell_type": "code",
   "execution_count": 32,
   "id": "5f7b9413",
   "metadata": {},
   "outputs": [
    {
     "name": "stdout",
     "output_type": "stream",
     "text": [
      "('XiaoHu', 65, 55)\n"
     ]
    }
   ],
   "source": [
    "xiaohu = student.student('XiaoHu', 65, 55)\n",
    "print(xiaohu)"
   ]
  },
  {
   "cell_type": "markdown",
   "id": "7c0549b4",
   "metadata": {},
   "source": [
    "官方解释:当我们只需要模块中的几个函数或类时，也可以采用 from model_name import xxx 的写法导入指定部分\n",
    "\n",
    "自我解释:一般情况下 面向对象过程中 ，多个模块可能会包含了多个 `类` 我们也可以显示的指定仅导入模块中的某一个类\n"
   ]
  },
  {
   "cell_type": "code",
   "execution_count": 37,
   "id": "b59bf69b",
   "metadata": {},
   "outputs": [],
   "source": [
    "## 从student模块中导入student这个类\n",
    "from student import student\n",
    "\n"
   ]
  },
  {
   "cell_type": "code",
   "execution_count": 38,
   "id": "c02f24a7",
   "metadata": {},
   "outputs": [
    {
     "name": "stdout",
     "output_type": "stream",
     "text": [
      "('XiaoHu', 65, 55)\n"
     ]
    }
   ],
   "source": [
    "## 这里就不需要再指定具体的模块了\n",
    "xiaohu = student('XiaoHu', 65, 55)\n",
    "print(xiaohu)"
   ]
  },
  {
   "cell_type": "markdown",
   "id": "c9675485",
   "metadata": {},
   "source": [
    "在 Python 中内置了很多标准模块，例如用于数学操作的 math 模块与处理时间的 time 模块："
   ]
  },
  {
   "cell_type": "code",
   "execution_count": 39,
   "id": "f90667ae",
   "metadata": {},
   "outputs": [
    {
     "name": "stdout",
     "output_type": "stream",
     "text": [
      "4.174387269895637\n",
      "4.174387269895637\n"
     ]
    }
   ],
   "source": [
    "## 使用math模块中的log函数\n",
    "import math\n",
    "print(math.log(xiaohu.Math_score))\n",
    "\n",
    "from math import log\n",
    "print(log(xiaohu.Math_score))\n"
   ]
  },
  {
   "cell_type": "code",
   "execution_count": null,
   "id": "fde49a0b",
   "metadata": {},
   "outputs": [],
   "source": []
  }
 ],
 "metadata": {
  "kernelspec": {
   "display_name": "Python 3 (ipykernel)",
   "language": "python",
   "name": "python3"
  },
  "language_info": {
   "codemirror_mode": {
    "name": "ipython",
    "version": 3
   },
   "file_extension": ".py",
   "mimetype": "text/x-python",
   "name": "python",
   "nbconvert_exporter": "python",
   "pygments_lexer": "ipython3",
   "version": "3.8.16"
  }
 },
 "nbformat": 4,
 "nbformat_minor": 5
}
