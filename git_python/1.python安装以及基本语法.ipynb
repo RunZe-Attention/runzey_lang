{
 "cells": [
  {
   "cell_type": "markdown",
   "id": "932eefd3",
   "metadata": {},
   "source": [
    "# Python 安装及基本语法"
   ]
  },
  {
   "cell_type": "markdown",
   "id": "1b7aeed5",
   "metadata": {},
   "source": [
    "Python 是一种上手简单、功能丰富的编程语言，是数据科学领域首选的可靠工具。通过 Python 你可以迅速解决问题，而不是把精力消耗在复杂的语法与编程细节上，这与本教程的核心思想“简洁”不谋而合。\n",
    "\n",
    "当全世界的数据科学家与研究人员享受 Python 带来的便利时，另一部分人正在致力于开发各种强大的 数据分析 / 机器学习 / 神经网络运行库，使得复杂的算法和模型不再成为技术门槛，越来越多的人都有机会进入数据科学领域进行学习与创新。"
   ]
  },
  {
   "cell_type": "code",
   "execution_count": 1,
   "id": "64ded98f",
   "metadata": {},
   "outputs": [
    {
     "name": "stdout",
     "output_type": "stream",
     "text": [
      "hello world\n"
     ]
    }
   ],
   "source": [
    "print(\"hello world\")"
   ]
  },
  {
   "cell_type": "code",
   "execution_count": null,
   "id": "d9772769",
   "metadata": {},
   "outputs": [],
   "source": [
    "import numpy as np"
   ]
  },
  {
   "cell_type": "markdown",
   "id": "a2790ca7",
   "metadata": {},
   "source": [
    "## 1.1.2 python常量与变量"
   ]
  },
  {
   "cell_type": "markdown",
   "id": "79a764b0",
   "metadata": {},
   "source": [
    "可能你现在会产生疑惑，代码中的 print 代表什么意义？括号又是什么作用？为什么 hello world 外面有个双引号？没关系，下面我们就来了解 Python 语法的奥秘。\n",
    "首先我们介绍常量与变量，他们相当于语言中的 “名词” 部分，功能是用来表示某些事物。"
   ]
  },
  {
   "cell_type": "markdown",
   "id": "ac61cdbe",
   "metadata": {},
   "source": [
    "### 1.1.2.1 常量"
   ]
  },
  {
   "cell_type": "markdown",
   "id": "eeb8e7e7",
   "metadata": {},
   "source": [
    "常量是编程语言中固定的量，它的值不能改变。例如 2 就表示数字二，不能被修改表示其他值。Python 中的常量包括数字，字符串，逻辑值三种。\n",
    "\n",
    "- 数字(包括虚数)：整数（例如2），浮点数（例如2.333 或 1e-9 = ）\n",
    "- 字符串：用单/双/三引号括起来的内容，例如（'Hi' 或 \"Hi\" 或 '''Hi'''）\n",
    "- 逻辑值：True 代表真， False 代表假\n",
    "\n",
    "\n",
    "使用 type( * ) 可以查看 * 的类型，例如 type(2) 返回 int 表示 2 为 整数。"
   ]
  },
  {
   "cell_type": "code",
   "execution_count": 2,
   "id": "84612489",
   "metadata": {},
   "outputs": [
    {
     "data": {
      "text/plain": [
       "int"
      ]
     },
     "execution_count": 2,
     "metadata": {},
     "output_type": "execute_result"
    }
   ],
   "source": [
    "# 表示整数(integer)2\n",
    "type(2)"
   ]
  },
  {
   "cell_type": "code",
   "execution_count": 8,
   "id": "ed33de60",
   "metadata": {},
   "outputs": [
    {
     "data": {
      "text/plain": [
       "float"
      ]
     },
     "execution_count": 8,
     "metadata": {},
     "output_type": "execute_result"
    }
   ],
   "source": [
    "#  2.333 与 1e-9 表示对应浮点数(float)\n",
    "type(2.33)"
   ]
  },
  {
   "cell_type": "code",
   "execution_count": 4,
   "id": "a82e6d13",
   "metadata": {},
   "outputs": [
    {
     "data": {
      "text/plain": [
       "float"
      ]
     },
     "execution_count": 4,
     "metadata": {},
     "output_type": "execute_result"
    }
   ],
   "source": [
    "type(1e-9)"
   ]
  },
  {
   "cell_type": "code",
   "execution_count": 5,
   "id": "d051499e",
   "metadata": {},
   "outputs": [
    {
     "data": {
      "text/plain": [
       "str"
      ]
     },
     "execution_count": 5,
     "metadata": {},
     "output_type": "execute_result"
    }
   ],
   "source": [
    "## 用单引号括起来的内容表示字符串(string)\n",
    "type(\"这是一个字符串\")"
   ]
  },
  {
   "cell_type": "code",
   "execution_count": 9,
   "id": "bce47eac",
   "metadata": {},
   "outputs": [
    {
     "data": {
      "text/plain": [
       "bool"
      ]
     },
     "execution_count": 9,
     "metadata": {},
     "output_type": "execute_result"
    }
   ],
   "source": [
    "## False 代表逻辑值(Boolen)\n",
    "type(False)"
   ]
  },
  {
   "cell_type": "code",
   "execution_count": 10,
   "id": "4ae168fd",
   "metadata": {},
   "outputs": [
    {
     "data": {
      "text/plain": [
       "bool"
      ]
     },
     "execution_count": 10,
     "metadata": {},
     "output_type": "execute_result"
    }
   ],
   "source": [
    "type(True)"
   ]
  },
  {
   "cell_type": "markdown",
   "id": "f4986bf2",
   "metadata": {},
   "source": [
    "### 1.1.2.2 变量"
   ]
  },
  {
   "cell_type": "markdown",
   "id": "e40960b7",
   "metadata": {},
   "source": [
    "与常量相反，变量可以存储不同的值以表示不同的内容，并且它的值可以被更改。变量通过赋值符号 = 创建，例如 variable = 1。\n",
    "\n",
    "注意变量存在命名规范。变量的第一个字符必须是字母或下划线，其余部分由下划线或数字组成，且区分大小写。例如 a_123 可以是一个变量，123_a 不可以是一个变量，A_123 与 a_123 表示两个不同变量。\n",
    "\n",
    "且变量名尽量有实际的意义"
   ]
  },
  {
   "cell_type": "code",
   "execution_count": 12,
   "id": "85188561",
   "metadata": {},
   "outputs": [
    {
     "data": {
      "text/plain": [
       "int"
      ]
     },
     "execution_count": 12,
     "metadata": {},
     "output_type": "execute_result"
    }
   ],
   "source": [
    "## 创建名为variable的变量存储一个整数\n",
    "variable=1\n",
    "type(variable)"
   ]
  },
  {
   "cell_type": "code",
   "execution_count": 13,
   "id": "5b36ba46",
   "metadata": {},
   "outputs": [
    {
     "data": {
      "text/plain": [
       "str"
      ]
     },
     "execution_count": 13,
     "metadata": {},
     "output_type": "execute_result"
    }
   ],
   "source": [
    "## 修改variable变量的值为一个字符串\n",
    "variable = 'hi'\n",
    "type(variable)"
   ]
  },
  {
   "cell_type": "code",
   "execution_count": 14,
   "id": "99c9ebee",
   "metadata": {},
   "outputs": [
    {
     "ename": "SyntaxError",
     "evalue": "invalid decimal literal (988489544.py, line 2)",
     "output_type": "error",
     "traceback": [
      "\u001b[0;36m  Cell \u001b[0;32mIn[14], line 2\u001b[0;36m\u001b[0m\n\u001b[0;31m    123_a = 10\u001b[0m\n\u001b[0m       ^\u001b[0m\n\u001b[0;31mSyntaxError\u001b[0m\u001b[0;31m:\u001b[0m invalid decimal literal\n"
     ]
    }
   ],
   "source": [
    "### 变量名非法会触发错误提示\n",
    "123_a = 10"
   ]
  },
  {
   "cell_type": "markdown",
   "id": "90d9d203",
   "metadata": {},
   "source": [
    "## 1.1.3 Python运算符与函数\n"
   ]
  },
  {
   "cell_type": "markdown",
   "id": "74fdca6e",
   "metadata": {},
   "source": [
    "学习了常量与变量之后，我们可以在 Python 中表示一些数值或字符串，然而要想解决更复杂的问题，我们需要了解如何对这些常量与变量进行操作。\n",
    "\n",
    "运算符与函数相当于语言中的 “动词” 部分，用来表示某种操作。"
   ]
  },
  {
   "cell_type": "markdown",
   "id": "1536350e",
   "metadata": {},
   "source": [
    "### 1.1.3.1 运算符"
   ]
  },
  {
   "cell_type": "markdown",
   "id": "c3815e7b",
   "metadata": {},
   "source": [
    "运算符有以下几种，表示运算操作/逻辑操作/位运算操作\n",
    "\n",
    "- 算数运算符：\n",
    "  + 表示加法，1 + 2 的结果是 3\n",
    "  - 表示减法，1 - 2 的结果是 -1\n",
    "  * 表示乘法，1 * 2 的结果是 2\n",
    "  ** 表示乘方，1 ** 2 的结果是 1\n",
    "  / 表示除法，1 / 2 的结果是 0.5\n",
    "  // 表示整除，1 // 2 的结果是 0 （相当于除法结果向下取整）\n",
    "  % 表示取余，1 % 2 的结果是 1\n",
    "- 逻辑运算符\n",
    "  - > 表示大于，1 > 2 的结果是 False\n",
    "  - >= 表示大于等于， 1 >= 2 的结果是 False\n",
    "  - <= 表示小于，1 <= 2 的结果是 True\n",
    "  - < 表示小于等于， 1 < 2 的结果是 True\n",
    "  - == 表示等于， 1 == 2 的结果是 False\n",
    "  - != 表示不等于， 1 != 2 的结果是 True\n",
    "  - and 表示逻辑\"与\"，True and False 的结果是 False\n",
    "  - or 表示逻辑\"或\"，True or False 的结果是 True\n",
    "  - not 表示逻辑\"非\"，not True 的结果是 False\n",
    "- 位运算符\n",
    "  >> 表示右移操作\n",
    "  - << 表示左移操作\n",
    "  - & 表示按位与\n",
    "  - | 表示按位或\n",
    "  - ^ 表示按位异或\n",
    "  - ~ 表示按位取反"
   ]
  },
  {
   "cell_type": "markdown",
   "id": "f7595b74",
   "metadata": {},
   "source": [
    "其中最常用的是算数运算符与逻辑运算符，位运算符在 集合 操作中经常使用。"
   ]
  },
  {
   "cell_type": "code",
   "execution_count": 15,
   "id": "36fe00fc",
   "metadata": {},
   "outputs": [
    {
     "data": {
      "text/plain": [
       "False"
      ]
     },
     "execution_count": 15,
     "metadata": {},
     "output_type": "execute_result"
    }
   ],
   "source": [
    "True and False"
   ]
  },
  {
   "cell_type": "code",
   "execution_count": 16,
   "id": "a4492ebf",
   "metadata": {},
   "outputs": [
    {
     "data": {
      "text/plain": [
       "True"
      ]
     },
     "execution_count": 16,
     "metadata": {},
     "output_type": "execute_result"
    }
   ],
   "source": [
    "True or False"
   ]
  },
  {
   "cell_type": "code",
   "execution_count": 17,
   "id": "c79c1bfe",
   "metadata": {},
   "outputs": [
    {
     "data": {
      "text/plain": [
       "False"
      ]
     },
     "execution_count": 17,
     "metadata": {},
     "output_type": "execute_result"
    }
   ],
   "source": [
    "## 一元运算符\n",
    "not True"
   ]
  },
  {
   "cell_type": "code",
   "execution_count": 18,
   "id": "7d173a4f",
   "metadata": {},
   "outputs": [
    {
     "data": {
      "text/plain": [
       "True"
      ]
     },
     "execution_count": 18,
     "metadata": {},
     "output_type": "execute_result"
    }
   ],
   "source": [
    "not 0"
   ]
  },
  {
   "cell_type": "code",
   "execution_count": 19,
   "id": "1d6582d9",
   "metadata": {},
   "outputs": [
    {
     "data": {
      "text/plain": [
       "True"
      ]
     },
     "execution_count": 19,
     "metadata": {},
     "output_type": "execute_result"
    }
   ],
   "source": [
    "not 1>2"
   ]
  },
  {
   "cell_type": "markdown",
   "id": "c14108d1",
   "metadata": {},
   "source": []
  },
  {
   "cell_type": "code",
   "execution_count": 21,
   "id": "2a645c37",
   "metadata": {},
   "outputs": [
    {
     "data": {
      "text/plain": [
       "True"
      ]
     },
     "execution_count": 21,
     "metadata": {},
     "output_type": "execute_result"
    }
   ],
   "source": [
    "#问题：给你任意五个整数和一个目标值target，找到这五个整数中和为target的那两个整数。\n",
    "#例如：\n",
    "#输入：2,3,7,11,15, target = 13\n",
    "#输出：2,11\n",
    "#解释：第0个数和第3个数的和为13 （注：编程时我们习惯从第0个开始数）\n",
    "\n",
    "## 尝试求解，改变 a b 的值依次两两尝试，直到 a + b = target\n",
    "\n",
    "target = 13\n",
    "a = 2\n",
    "b = 11\n",
    "a + b == target"
   ]
  },
  {
   "cell_type": "markdown",
   "id": "9de58106",
   "metadata": {},
   "source": [
    "### 1.1.3.2 函数"
   ]
  },
  {
   "cell_type": "markdown",
   "id": "25c2f817",
   "metadata": {},
   "source": [
    "在上述过程中，下列代码被重复多次书写，这时我们可以使用函数减少代码冗余。函数是一种可复用的部件，用于定义更加复杂的操作以减少代码冗余。\n",
    "\n",
    "a = *\n",
    "\n",
    "b = *\n",
    "\n",
    "a + b == target"
   ]
  },
  {
   "cell_type": "markdown",
   "id": "bebd40d9",
   "metadata": {},
   "source": [
    "如果把运算符比作 “握” “抬手” “张嘴” “吞咽” 等基本动作，那么函数往往是 “吃饭” “喝水” 等一系列基本动作构成的复杂动作。"
   ]
  },
  {
   "cell_type": "markdown",
   "id": "a12c41d6",
   "metadata": {},
   "source": [
    "def == define\n",
    "\n",
    "函数通过 def 关键字定义，函数的输入由函数名后括号内 参数 定义，函数的结果由 return 关键字定义。\n",
    "\n",
    "- 函数的 参数 由逗号分隔，`在定义函数时的参数叫做形参`，`在使用函数时输入的参数叫做实参。`\n",
    "- 函数的 返回值 是函数的返回结果，参数与返回值都是可选的。\n",
    "\n",
    "\n",
    "另外程序中还存在着预先定义好的函数，例如我们在前面使用的 type 函数。以及 1.1.1.3 节中使用的 print 函数，它的功能是在屏幕输出某个变量的内容。可能你早就心存疑惑，为什么上面不用 print 也能输出呢？原因就在于交互式环境 notebook 会自动输出最后一个变量的内容。"
   ]
  },
  {
   "cell_type": "code",
   "execution_count": 24,
   "id": "73e5e453",
   "metadata": {},
   "outputs": [
    {
     "data": {
      "text/plain": [
       "13"
      ]
     },
     "execution_count": 24,
     "metadata": {},
     "output_type": "execute_result"
    }
   ],
   "source": [
    "## 交互方式输出最后一个变量内容\n",
    "variable\n",
    "target"
   ]
  },
  {
   "cell_type": "code",
   "execution_count": 27,
   "id": "307283da",
   "metadata": {},
   "outputs": [
    {
     "name": "stdout",
     "output_type": "stream",
     "text": [
      "True\n",
      "False\n",
      "False\n"
     ]
    }
   ],
   "source": [
    "## num1，num2 是输入的参数， return 后面的 a+b==target 是函数的结果\n",
    "\n",
    "## 这里num1，num2，target 是形参\n",
    "\n",
    "def check_sum(num1,num2,target):\n",
    "    ## 函数体需要严格缩进对齐\n",
    "    a = num1\n",
    "    b = num2\n",
    "    return (a + b) == target\n",
    "\n",
    "print(check_sum(2,11,13))\n",
    "print(check_sum(2,1,13))\n",
    "print(check_sum(2,12,13))\n"
   ]
  },
  {
   "cell_type": "markdown",
   "id": "2eafe12e",
   "metadata": {},
   "source": [
    "Python的一大语法特点是缩进敏感，这里第 5，6，7 行距离开头有 1个TAB / 4个空格 的距离并不只是为了美观，而是为了说明第 5,6,7 行是函数的内容。相比下面 C++ 函数用花括号的表示方法，相信你可以在这个角度感受 Python 的简洁。\n",
    "\n",
    "int check_sum(int num1, int num2, int target)\n",
    "{\n",
    "    int a = num1;\n",
    "    int b = num2;\n",
    "    return a + b == target;\n",
    "}"
   ]
  },
  {
   "cell_type": "markdown",
   "id": "2f85b5a2",
   "metadata": {},
   "source": [
    "通过引入函数，上面的小例子变得更加简洁。然而我们发现无论测试哪两个数字的和与target一致，target的值是始终不变的。我们可以通过引入 局部变量 与 全局变量 简化函数。\n",
    "\n",
    "- 局部变量：只在函数内部生效的变量，在函数外部无法使用。\n",
    "- 全局变量：在整个代码中都生效的变量，在函数内/外部都可使用。\n",
    "\n",
    "在 check_sum 中定义的变量 a, b, num1, num2, target 都属于局部变量。\n",
    "\n",
    "在 1.1.3.1 节中我们定义的 target 变量属于全局变量。`当我们希望在函数内部使用全局变量时，应当用 global 关键字予以标注`"
   ]
  },
  {
   "cell_type": "code",
   "execution_count": 30,
   "id": "ae3e31c2",
   "metadata": {},
   "outputs": [
    {
     "ename": "NameError",
     "evalue": "name 'num1' is not defined",
     "output_type": "error",
     "traceback": [
      "\u001b[0;31m---------------------------------------------------------------------------\u001b[0m",
      "\u001b[0;31mNameError\u001b[0m                                 Traceback (most recent call last)",
      "Cell \u001b[0;32mIn[30], line 11\u001b[0m\n\u001b[1;32m      8\u001b[0m     b \u001b[38;5;241m=\u001b[39m num2\n\u001b[1;32m      9\u001b[0m     \u001b[38;5;28;01mreturn\u001b[39;00m (a \u001b[38;5;241m+\u001b[39m b) \u001b[38;5;241m==\u001b[39m TARGET\n\u001b[0;32m---> 11\u001b[0m \u001b[38;5;28mprint\u001b[39m(\u001b[43mnum1\u001b[49m)\n\u001b[1;32m     12\u001b[0m \u001b[38;5;28mprint\u001b[39m(check_sum(\u001b[38;5;241m1\u001b[39m,\u001b[38;5;241m1\u001b[39m))\n",
      "\u001b[0;31mNameError\u001b[0m: name 'num1' is not defined"
     ]
    }
   ],
   "source": [
    "## 重新定义check_sum,在函数体内部使用全局\n",
    "\n",
    "TARGET=13\n",
    "def check_sum(num1,num2):\n",
    "    ## 函数体需要严格缩进对齐\n",
    "    global TARGET ## 使用全局变量\n",
    "    a = num1\n",
    "    b = num2\n",
    "    return (a + b) == TARGET\n",
    "\n",
    "print(num1)\n"
   ]
  },
  {
   "cell_type": "code",
   "execution_count": 32,
   "id": "984e88fa",
   "metadata": {},
   "outputs": [
    {
     "name": "stdout",
     "output_type": "stream",
     "text": [
      "False\n",
      "True\n",
      "False\n"
     ]
    }
   ],
   "source": [
    "print(check_sum(1,1))\n",
    "print(check_sum(2,11))\n",
    "print(check_sum(1,3))"
   ]
  },
  {
   "cell_type": "markdown",
   "id": "66fc6006",
   "metadata": {},
   "source": [
    "通过全局变量的引入,代码进一步简洁"
   ]
  },
  {
   "cell_type": "markdown",
   "id": "ce2f8053",
   "metadata": {},
   "source": [
    "## 1.1.4 python控制流"
   ]
  },
  {
   "cell_type": "markdown",
   "id": "97b7d254",
   "metadata": {},
   "source": [
    "通过运算符与函数，我们可以操作变量完成简单的任务。然而本质上我们还在把 Python 当作一个计算器使用，而不是一个可以实现自动化的编程语言，每行代码按照自上而下的顺序依次执行。通过控制流，我们可以让程序自动判断逻辑，自动跳转到某个位置，从而实现自动控制。\n",
    "\n",
    "控制流中涉及几个关键字：\n",
    "\n",
    "- if-else 逻辑语句：判断某个条件是否成立，若成立则执行 if 语句，若不成立则执行 else 语句。\n",
    "- while 循环语句：根据某一条件重复执行某个语句块。\n",
    "- for-in 循环语句：根据某一序列进行循环迭代，直到迭代完整个序列。（序列这一概念在下章介绍）\n",
    "- break 停止语句：停止当前 while 或 for-in 循环。\n",
    "- continue 继续语句：暂停当前 while 或 for-in 循环，继续执行循环到下一个迭代。\n",
    "\n",
    "控制流就像语言中的“介词”，帮助我们联接名词与动词组成流畅优美的句子。"
   ]
  },
  {
   "cell_type": "markdown",
   "id": "f8b70c69",
   "metadata": {},
   "source": [
    "### 1.1.4.1 while 循环语句"
   ]
  },
  {
   "cell_type": "markdown",
   "id": "5b5f423d",
   "metadata": {},
   "source": [
    "while 循环语句根据某一条件重复执行某个语句块，它的基本结构如下：\n",
    "\n",
    "while ***:\n",
    "    \n",
    "    statemnt\n",
    "\n",
    "若 *** 的结果为 True 则继续重复执行 statement，若结果为 False 则停止循环。"
   ]
  },
  {
   "cell_type": "code",
   "execution_count": 34,
   "id": "9387d65e",
   "metadata": {},
   "outputs": [
    {
     "name": "stdout",
     "output_type": "stream",
     "text": [
      "1\n",
      "2\n",
      "3\n",
      "4\n",
      "5\n"
     ]
    }
   ],
   "source": [
    "## while语句实例\n",
    "variable = 0\n",
    "while variable < 5:\n",
    "    variable = variable + 1\n",
    "    print(variable)\n"
   ]
  },
  {
   "cell_type": "markdown",
   "id": "7ac6e30f",
   "metadata": {},
   "source": [
    "在上面的代码中，首先我们定义变量 a 的值为 0，之后每次迭代使 a 的值增加 1，并输出当前 a 的值。\n",
    "\n",
    "当 a 的值等于 5 时，循环停止。"
   ]
  },
  {
   "cell_type": "markdown",
   "id": "89b6c012",
   "metadata": {},
   "source": [
    "### 1.1.4.2 for 循环语句"
   ]
  },
  {
   "cell_type": "markdown",
   "id": "87c51262",
   "metadata": {},
   "source": [
    "for-in 据某一序列进行循环迭代，直到迭代完整个序列。\n",
    "\n",
    "首先我们简单介绍下序列，序列只是一个有序的项的集合。例如方括号括起来的一组常量或变量 [0, 1, 2, 3, 4] 可以是一个序列。\n",
    "\n",
    "循环的基本结构如下：\n",
    "\n",
    "for * in ***:\n",
    "\n",
    "    statemnt\n",
    "\n",
    "其中 *** 是被迭代的序列，* 是存储当前迭代元素的变量，当 *** 中所有元素都被迭代一次后，循环停止。\n",
    "\n",
    "在下面的代码中，每次循环迭代序列中的一个元素，直到最后一个元素 5 被迭代。"
   ]
  },
  {
   "cell_type": "code",
   "execution_count": 36,
   "id": "d719fbb1",
   "metadata": {},
   "outputs": [
    {
     "name": "stdout",
     "output_type": "stream",
     "text": [
      "1\n",
      "2\n",
      "3\n",
      "4\n",
      "5\n",
      "6\n",
      "7\n",
      "8\n",
      "9\n"
     ]
    }
   ],
   "source": [
    "for i in range(1,10):\n",
    "    print(i)"
   ]
  },
  {
   "cell_type": "markdown",
   "id": "88564152",
   "metadata": {},
   "source": [
    "考虑之前的求和问题，在最坏的情况下，我们需要把所有元素两两求和才能得到答案。在5个元素时，我们最多需要对比10次，也就是重复写10次 check_sum 函数。但在有100个元素时，我们需要重复写4950次！因此这时我们用循环进行简化"
   ]
  },
  {
   "cell_type": "code",
   "execution_count": 38,
   "id": "d1a84019",
   "metadata": {},
   "outputs": [
    {
     "name": "stdout",
     "output_type": "stream",
     "text": [
      "2 2 False\n",
      "2 3 False\n",
      "2 7 False\n",
      "2 11 True\n",
      "2 15 False\n",
      "3 2 False\n",
      "3 3 False\n",
      "3 7 False\n",
      "3 11 False\n",
      "3 15 False\n",
      "7 2 False\n",
      "7 3 False\n",
      "7 7 False\n",
      "7 11 False\n",
      "7 15 False\n",
      "11 2 True\n",
      "11 3 False\n",
      "11 7 False\n",
      "11 11 False\n",
      "11 15 False\n",
      "15 2 False\n",
      "15 3 False\n",
      "15 7 False\n",
      "15 11 False\n",
      "15 15 False\n"
     ]
    }
   ],
   "source": [
    "for i in [2,3,7,11,15]:\n",
    "    for j in [2,3,7,11,15]:\n",
    "        print(i,j,check_sum(i,j))      "
   ]
  },
  {
   "cell_type": "markdown",
   "id": "3d0bee3d",
   "metadata": {},
   "source": [
    "在这个例子中，我们可以看到循环是可以嵌套的，在循环的每一次迭代中开启一个新的循环。外层的 for a in [2, 3, 7, 11, 15] 按照顺序选择第 1 个元素，内层的 for b in [2, 3, 7, 11, 15] 按照顺序选择第 2 个元素，每次迭代输出两个值以及是否与 target 相等。\n",
    "\n",
    "最终我们找到输出 True 的两个元素 ( 2, 11 )，只要三行代码就可以解决问题！但是这是一个时间复杂度非常高的方式"
   ]
  },
  {
   "cell_type": "markdown",
   "id": "4144bac4",
   "metadata": {},
   "source": [
    "### 1.1.4.3 if-else 逻辑语句"
   ]
  },
  {
   "cell_type": "markdown",
   "id": "8f91e674",
   "metadata": {},
   "source": [
    "if else 逻辑语句根据某一条件运行不同代码，它的基本结构如下：\n",
    "\n",
    "if ***:\n",
    "    \n",
    "    statement1\n",
    "else:\n",
    "    \n",
    "    statement2\n",
    "\n",
    "若 *** 的结果为 True 则执行 statement1，若结果为 False 则执行 statement2\n",
    "\n",
    "女朋友说，下班回来带一个西瓜。如果看到番茄，就买两个。最后程序员买回来两个西瓜。\n",
    "\n",
    "虽然通过 for-in 不需要写很长代码，然而我们还需要从输出结果中一个个找。通过 if-else 逻辑语句，我们可以让程序真正的实现自动化！\n",
    "\n",
    "这里 pass 代表不进行任何操作"
   ]
  },
  {
   "cell_type": "code",
   "execution_count": 42,
   "id": "b583162b",
   "metadata": {},
   "outputs": [
    {
     "name": "stdout",
     "output_type": "stream",
     "text": [
      "2 11\n",
      "11 2\n"
     ]
    }
   ],
   "source": [
    "for i in [2,3,7,11,15]:\n",
    "    for j in [2,3,7,11,15]:\n",
    "        if check_sum(i,j):\n",
    "            print(i,j)\n",
    "        else:\n",
    "            pass"
   ]
  },
  {
   "cell_type": "markdown",
   "id": "fb0429f1",
   "metadata": {},
   "source": [
    "### 1.1.4.4 break 停止语句"
   ]
  },
  {
   "cell_type": "markdown",
   "id": "6f835e89",
   "metadata": {},
   "source": [
    "break 停止语句用于停止当前的循环。在上面的例子中，我们仅输出 1 种顺序即可，可以添加 break 停止语句在找到符合条件的两个元素后停止。\n",
    "\n",
    "注意 break 仅能跳出当前循环，因此我们需要添加一个 finded 变量记录是否已找到符合条件的两个元素，若找到后外层循环也使用 break 跳出。"
   ]
  },
  {
   "cell_type": "code",
   "execution_count": 43,
   "id": "aeaf7889",
   "metadata": {},
   "outputs": [
    {
     "name": "stdout",
     "output_type": "stream",
     "text": [
      "2 11\n"
     ]
    }
   ],
   "source": [
    "final_flag = False\n",
    "for i in [2,3,7,11,15]:\n",
    "    for j in [2,3,7,11,15]:\n",
    "        if check_sum(i,j):\n",
    "            print(i,j)\n",
    "            final_flag = True\n",
    "            break\n",
    "        else:\n",
    "            pass\n",
    "    if final_flag:\n",
    "        break"
   ]
  },
  {
   "cell_type": "markdown",
   "id": "1dec89ef",
   "metadata": {},
   "source": [
    "### 1.1.4.5 continue 继续语句"
   ]
  },
  {
   "cell_type": "markdown",
   "id": "07d4c2d9",
   "metadata": {},
   "source": [
    "continue 语句用于停止当前循环并继续执行循环到下一个迭代，下面我们用一个例子展示 continue 的用法。"
   ]
  },
  {
   "cell_type": "code",
   "execution_count": 44,
   "id": "37d913f1",
   "metadata": {},
   "outputs": [
    {
     "name": "stdout",
     "output_type": "stream",
     "text": [
      "2\n",
      "3\n",
      "7\n",
      "11\n",
      "15\n"
     ]
    }
   ],
   "source": [
    "for i in [2,3,7,11,15]:\n",
    "    print(i)\n",
    "    continue\n",
    "    print(\"str输出被忽略了\")"
   ]
  },
  {
   "cell_type": "markdown",
   "id": "3f2b811f",
   "metadata": {},
   "source": [
    "字符串打印都没有被执行"
   ]
  },
  {
   "cell_type": "code",
   "execution_count": null,
   "id": "7bb21c2e",
   "metadata": {},
   "outputs": [],
   "source": []
  }
 ],
 "metadata": {
  "kernelspec": {
   "display_name": "Python 3 (ipykernel)",
   "language": "python",
   "name": "python3"
  },
  "language_info": {
   "codemirror_mode": {
    "name": "ipython",
    "version": 3
   },
   "file_extension": ".py",
   "mimetype": "text/x-python",
   "name": "python",
   "nbconvert_exporter": "python",
   "pygments_lexer": "ipython3",
   "version": "3.8.16"
  }
 },
 "nbformat": 4,
 "nbformat_minor": 5
}
