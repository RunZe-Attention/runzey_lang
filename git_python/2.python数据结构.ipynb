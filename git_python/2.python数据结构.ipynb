{
 "cells": [
  {
   "cell_type": "markdown",
   "id": "b5f18139",
   "metadata": {},
   "source": [
    "# Python数据结构"
   ]
  },
  {
   "cell_type": "markdown",
   "id": "c41fe850",
   "metadata": {},
   "source": [
    "顾名思义，数据结构是能够将数据组合在一起的一种结构。\n",
    "\n",
    "在数据科学领域，很多情况下需要将数据进行有序排列。例如我们统计了大学某班 50 人的数学成绩，那么创建 50 个变量例如 XiaoMing = 99, XiaoHu = 86 .... 无疑是非常繁琐的。这时我们可以通过数据结构整合这些数据，例如在上一节中以方括号标识的列表 [ 99, 86, 77 .... ]，这将会使我们的程序大大简化。\n",
    "\n",
    "Python 中常用的数据结构有：\n",
    "\n",
    "- 列表 `List`: 用于保存有序项集合的变量，以方括号标识。\n",
    "- 元组 `Tuple`: 用于保存有序项集合的常量，以圆括号标识。\n",
    "- 字典 `Dict`: 用于保存无序（键，值）项集合的变量，以花括号标识。\n",
    "- 集合 `Set`: 用于保存无序项集合的变量，以花括号标识。\n",
    "\n",
    "瑞士计算机科学家 Niklaus Wirth 曾说过 \"程序 = 数据结构 + 算法\"，这个公式在 40 年后的今天仍然成立。掌握 Python 中常用的数据结构是我们设计程序的一大基石。"
   ]
  },
  {
   "cell_type": "markdown",
   "id": "fee63cca",
   "metadata": {},
   "source": [
    "在本节中我们将尝试设计一个学生成绩管理系统，实现对学生成绩的增、删、查、改功能。"
   ]
  },
  {
   "cell_type": "markdown",
   "id": "ec249d5b",
   "metadata": {},
   "source": [
    "## 1.2.1 列表"
   ]
  },
  {
   "cell_type": "markdown",
   "id": "dd349fe1",
   "metadata": {},
   "source": [
    "列表是用于保存有序项集合的变量，通过方括号创建。列表是最容易理解的数据结构，它就像一个任务清单，任务清单的每一项都是一个单独的任务。\n",
    "\n",
    "下面我们创建一个含有四个整数的列表。"
   ]
  },
  {
   "cell_type": "code",
   "execution_count": null,
   "id": "be57e4b0",
   "metadata": {},
   "outputs": [],
   "source": [
    "l = [1, 2,3, 4]\n",
    "l[3]\n",
    "l[0]"
   ]
  },
  {
   "cell_type": "markdown",
   "id": "a3309b0d",
   "metadata": {},
   "source": [
    "列表支持以下操作：\n",
    "- 增：通过函数 append 可以向列表内增加元素\n",
    "- 删：通过关键字 del 可以删除列表内元素\n",
    "- 查：通过关键字 [ ] 可以查找列表某个位置元素\n",
    "- 改：通过赋值符号 = 可以修改某个位置的元素\n",
    "\n",
    "列表的优点是：\n",
    "- 快速向尾部添加元素\n",
    "- 快速遍历所有元素\n",
    "- 节省占用计算机内容空间(序列在内存中地址是连续的)"
   ]
  },
  {
   "cell_type": "markdown",
   "id": "c8aed11c",
   "metadata": {},
   "source": [
    "### 1.2.1.1 查找元素"
   ]
  },
  {
   "cell_type": "markdown",
   "id": "92b83aae",
   "metadata": {},
   "source": [
    "我们通过 [ ] 关键字查找列表中某个位置的元素。\n",
    "\n",
    "例如 l[0] 可以获取列表中首个元素，l[1] 可以获取列表中第 2 个元素。同时它还支持倒序查找，例如 l[-1] 表示倒数第一个元素（末尾的元素）"
   ]
  },
  {
   "cell_type": "code",
   "execution_count": null,
   "id": "7f9186e4",
   "metadata": {},
   "outputs": [],
   "source": [
    "## 查找 首个 元素\n",
    "print(l[0])\n",
    "## 查找第 2 个元素\n",
    "print(l[1])\n",
    "## 查找倒数第1 元素\n",
    "print(l[-1])\n",
    "## 查找倒数第 2 个元素\n",
    "print(l[-2])"
   ]
  },
  {
   "cell_type": "markdown",
   "id": "b1c7462e",
   "metadata": {},
   "source": [
    "[ ] 关键字也可以通过 “切片” 的形式获取含有多个元素的子列表\n",
    "\n",
    "例如 l[0:2] 代表列表从中第 0 个元素 到 第 2 个元素（左闭右开 [ )，不包括第 2 个元素）"
   ]
  },
  {
   "cell_type": "code",
   "execution_count": null,
   "id": "6f957721",
   "metadata": {},
   "outputs": [],
   "source": [
    "print(l[0:2])"
   ]
  },
  {
   "cell_type": "code",
   "execution_count": null,
   "id": "d25e053c",
   "metadata": {},
   "outputs": [],
   "source": [
    "## 查找第 1 到 最后 的元素子列表\n",
    "print(l[1:-1])"
   ]
  },
  {
   "cell_type": "markdown",
   "id": "f67df4ab",
   "metadata": {},
   "source": [
    "### 1.2.1.2 修改元素"
   ]
  },
  {
   "cell_type": "markdown",
   "id": "8d84605b",
   "metadata": {},
   "source": [
    "通过 [ ] 关键字同样可以修改列表中某个位置的元素，类似的它也支持倒序以及切片的形式。"
   ]
  },
  {
   "cell_type": "code",
   "execution_count": null,
   "id": "fbb69266",
   "metadata": {},
   "outputs": [],
   "source": [
    "l[0] = -1\n",
    "print(l)"
   ]
  },
  {
   "cell_type": "code",
   "execution_count": null,
   "id": "b690aee5",
   "metadata": {},
   "outputs": [],
   "source": [
    "l = [1,2,3,4]\n",
    "print(l)\n",
    "l[0:3] = [-1,-2]\n",
    "print(l)"
   ]
  },
  {
   "cell_type": "code",
   "execution_count": null,
   "id": "fe93cfd3",
   "metadata": {},
   "outputs": [],
   "source": [
    "# 切片方式赋值与后面的元素长度 不是必须 长度一致\n",
    "l = [1,2,3,4]\n",
    "l[0:2] = [0,0,0,0]\n",
    "print(l)"
   ]
  },
  {
   "cell_type": "markdown",
   "id": "ca33164e",
   "metadata": {},
   "source": [
    "### 1.2.1.3 增加元素"
   ]
  },
  {
   "cell_type": "markdown",
   "id": "1847319d",
   "metadata": {},
   "source": [
    "通过 `append` 函数可以实现向列表尾部添加新的元素。注意是向尾部添加数据"
   ]
  },
  {
   "cell_type": "code",
   "execution_count": null,
   "id": "74a6db08",
   "metadata": {},
   "outputs": [],
   "source": [
    "l = [1,2,3,4]\n",
    "l.append(5)\n",
    "l.append(6)\n",
    "l.append([7,8,9]) ## append默认只能添加一个元素 如果添加列表的话 最后一个元素是一个大列表\n",
    "print(l)"
   ]
  },
  {
   "cell_type": "markdown",
   "id": "99715c0d",
   "metadata": {},
   "source": [
    "通过 `extend`函数可以向序列尾部添加多个元素\n",
    "\n"
   ]
  },
  {
   "cell_type": "code",
   "execution_count": null,
   "id": "50547b3f",
   "metadata": {},
   "outputs": [],
   "source": [
    "l.extend([7,8,9])\n",
    "print(l)"
   ]
  },
  {
   "cell_type": "markdown",
   "id": "0eabbd94",
   "metadata": {},
   "source": [
    "### 1.2.1.4 删除元素"
   ]
  },
  {
   "cell_type": "markdown",
   "id": "18dab86f",
   "metadata": {},
   "source": [
    "通过 del 关键字可以删除列表某个位置的元素"
   ]
  },
  {
   "cell_type": "code",
   "execution_count": null,
   "id": "7d3b85c3",
   "metadata": {},
   "outputs": [],
   "source": [
    "l = [1,2,3,4]\n",
    "del l[1]\n",
    "print(l[1])"
   ]
  },
  {
   "cell_type": "code",
   "execution_count": null,
   "id": "e0b0c22c",
   "metadata": {},
   "outputs": [],
   "source": [
    "del l[0:2]\n",
    "print(l)"
   ]
  },
  {
   "cell_type": "markdown",
   "id": "b91b647a",
   "metadata": {},
   "source": [
    "### 1.2.1.5 小例子"
   ]
  },
  {
   "cell_type": "markdown",
   "id": "0a61f10e",
   "metadata": {},
   "source": [
    "在熟悉了列表的增删查找功能后，我们就可以尝试以此为基础搭建我们的学生成绩管理系统\n",
    "\n",
    "Task 1. 在上一次期末考试中，XiaoHu 考了数学 65 分，语文 55 分；XiaoMing 考了数学 80 分，语文92 分；XiaoWei 考了数学 95 分，语文 98 分，以此建立学生成绩管理系统。\n",
    "\n",
    "Task 2. 在本次期末考试中，XiaoHu 考了数学 95 分，语文 85 分；XiaoMing 考了数学 75 分，语文 71 分；XiaoWei 考了数学 92 分，语文 93 分，以此对之前的成绩进行更新。\n",
    "\n",
    "Task 3. 由于 XiaoMing 的成绩出现了大幅度下滑，家长决定要 XiaoMing 转学到另一所高中，以此在系统中删除 XiaoMing 的信息。\n",
    "\n",
    "Task 4. 学校新转来的学生 Cryin 本次考试成绩为 数学 87 分，语文 88 分，在系统中录入 Cryin 的成绩。"
   ]
  },
  {
   "cell_type": "code",
   "execution_count": 1,
   "id": "4714fac2",
   "metadata": {},
   "outputs": [
    {
     "name": "stdout",
     "output_type": "stream",
     "text": [
      "55\n"
     ]
    }
   ],
   "source": [
    "## Task 1 建立学生信息管理系统\n",
    "\n",
    "## 首先建立一个 “名字” 列表记录哪个学生在列表的哪个位置。\n",
    "names = ['XiaoHu', 'XiaoMing', 'XiaoWei']\n",
    "\n",
    "## 根据名字列表的位置分别建立 “语文成绩” “数学成绩列表” 列表。\n",
    "Math_scores = [65, 80, 95]\n",
    "Chinese_scores = [55, 92, 98]\n",
    "print(Chinese_scores[0])"
   ]
  },
  {
   "cell_type": "code",
   "execution_count": 2,
   "id": "5fb6c6a4",
   "metadata": {},
   "outputs": [
    {
     "name": "stdout",
     "output_type": "stream",
     "text": [
      "[95, 75, 92]\n",
      "[85, 71, 93]\n"
     ]
    }
   ],
   "source": [
    "## Task 2 根据本次期末考试的成绩更新系统\n",
    "\n",
    "## 首先找到 \"XiaoHu\" 在哪个位置，更新该位置的成绩\n",
    "## 通过 for-in 循环遍历名字元素\n",
    "\n",
    "def find_position(names,factname):\n",
    "    position = None\n",
    "    count = 0\n",
    "    for name in names:\n",
    "        if name == factname:\n",
    "            position = count\n",
    "        count = count+1\n",
    "    return position\n",
    "\n",
    "Xiaohu_position=find_position(names,\"XiaoHu\")\n",
    "XiaoMing_position=find_position(names,\"XiaoMing\")\n",
    "XiaoWei_position=find_position(names,\"XiaoWei\")\n",
    "\n",
    "Math_scores[Xiaohu_position] = 95\n",
    "Chinese_scores[Xiaohu_position] = 85\n",
    "\n",
    "Math_scores[XiaoMing_position] = 75\n",
    "Chinese_scores[XiaoMing_position] = 71\n",
    "\n",
    "Math_scores[XiaoWei_position] = 92\n",
    "Chinese_scores[XiaoWei_position] = 93\n",
    "\n",
    "\n",
    "print(Math_scores)\n",
    "print(Chinese_scores)"
   ]
  },
  {
   "cell_type": "code",
   "execution_count": 3,
   "id": "108d352f",
   "metadata": {},
   "outputs": [],
   "source": [
    "## Task 3 删除 XiaoMing 的信息\n",
    "\n",
    "def find_position(names,factname):\n",
    "    position = None\n",
    "    count = 0\n",
    "    for name in names:\n",
    "        if name == factname:\n",
    "            position = count\n",
    "        count = count+1\n",
    "    return position\n",
    "\n",
    "XiaoMing_position=find_position(names,\"XiaoMing\")\n",
    "\n",
    "## 根据 XiaoMing 在列表中的位置删除\n",
    "del names[XiaoMing_position]\n",
    "del Math_scores[XiaoMing_position]\n",
    "del Chinese_scores[XiaoMing_position]"
   ]
  },
  {
   "cell_type": "code",
   "execution_count": 5,
   "id": "26ef931c",
   "metadata": {},
   "outputs": [
    {
     "name": "stdout",
     "output_type": "stream",
     "text": [
      "[95, 92]\n",
      "[85, 93]\n",
      "['XiaoHu', 'XiaoWei']\n"
     ]
    }
   ],
   "source": [
    "print(Math_scores)\n",
    "print(Chinese_scores)\n",
    "print(names)"
   ]
  },
  {
   "cell_type": "code",
   "execution_count": 6,
   "id": "5ea4e63d",
   "metadata": {},
   "outputs": [
    {
     "name": "stdout",
     "output_type": "stream",
     "text": [
      "[95, 92, 87]\n",
      "[85, 93, 88]\n",
      "['XiaoHu', 'XiaoWei', 'Cryin']\n"
     ]
    }
   ],
   "source": [
    "## Task 4 录入 Cryin 的信息\n",
    "\n",
    "names.append('Cryin')\n",
    "Math_scores.append(87)\n",
    "Chinese_scores.append(88)\n",
    "print(Math_scores)\n",
    "print(Chinese_scores)\n",
    "print(names)"
   ]
  },
  {
   "cell_type": "markdown",
   "id": "1f6a4787",
   "metadata": {},
   "source": [
    "## 1.2.2 元组"
   ]
  },
  {
   "cell_type": "markdown",
   "id": "d62db052",
   "metadata": {},
   "source": [
    "元组与列表具有近乎一样的特性，他们唯一的区别在于元组无法被修改。由于不可修改的特性，元组一般用来保证存放数据的可靠性，例如用元组保存八大行星的名称，因为它们的名称不会被改变，也不会轻易减少：\n",
    "\n",
    "planets = (Mercury, Venus, Earth, Mars, Jupiter, Saturn, Uranus, Neptune)"
   ]
  },
  {
   "cell_type": "code",
   "execution_count": 7,
   "id": "aeb1cc2a",
   "metadata": {},
   "outputs": [
    {
     "ename": "TypeError",
     "evalue": "'tuple' object does not support item assignment",
     "output_type": "error",
     "traceback": [
      "\u001b[0;31m---------------------------------------------------------------------------\u001b[0m",
      "\u001b[0;31mTypeError\u001b[0m                                 Traceback (most recent call last)",
      "Cell \u001b[0;32mIn[7], line 2\u001b[0m\n\u001b[1;32m      1\u001b[0m t \u001b[38;5;241m=\u001b[39m (\u001b[38;5;241m1\u001b[39m, \u001b[38;5;241m2\u001b[39m, \u001b[38;5;241m3\u001b[39m, \u001b[38;5;241m4\u001b[39m)\n\u001b[0;32m----> 2\u001b[0m t[\u001b[38;5;241m0\u001b[39m]\u001b[38;5;241m=\u001b[39m\u001b[38;5;241m10\u001b[39m\n",
      "\u001b[0;31mTypeError\u001b[0m: 'tuple' object does not support item assignment"
     ]
    }
   ],
   "source": [
    "t = (1, 2, 3, 4)\n",
    "t[0]=10"
   ]
  },
  {
   "cell_type": "code",
   "execution_count": 8,
   "id": "25c8c85e",
   "metadata": {},
   "outputs": [
    {
     "ename": "TypeError",
     "evalue": "'tuple' object doesn't support item deletion",
     "output_type": "error",
     "traceback": [
      "\u001b[0;31m---------------------------------------------------------------------------\u001b[0m",
      "\u001b[0;31mTypeError\u001b[0m                                 Traceback (most recent call last)",
      "Cell \u001b[0;32mIn[8], line 1\u001b[0m\n\u001b[0;32m----> 1\u001b[0m \u001b[38;5;28;01mdel\u001b[39;00m t[\u001b[38;5;241m0\u001b[39m]\n",
      "\u001b[0;31mTypeError\u001b[0m: 'tuple' object doesn't support item deletion"
     ]
    }
   ],
   "source": [
    "del t[0]"
   ]
  },
  {
   "cell_type": "code",
   "execution_count": null,
   "id": "960852ba",
   "metadata": {},
   "outputs": [],
   "source": [
    "tuple内容不能被操作，但是可以整个被删除"
   ]
  },
  {
   "cell_type": "code",
   "execution_count": 9,
   "id": "ce105ff5",
   "metadata": {},
   "outputs": [],
   "source": [
    "del t"
   ]
  },
  {
   "cell_type": "code",
   "execution_count": 10,
   "id": "46beaef4",
   "metadata": {},
   "outputs": [
    {
     "ename": "NameError",
     "evalue": "name 't' is not defined",
     "output_type": "error",
     "traceback": [
      "\u001b[0;31m---------------------------------------------------------------------------\u001b[0m",
      "\u001b[0;31mNameError\u001b[0m                                 Traceback (most recent call last)",
      "Cell \u001b[0;32mIn[10], line 1\u001b[0m\n\u001b[0;32m----> 1\u001b[0m \u001b[38;5;28mprint\u001b[39m(\u001b[43mt\u001b[49m)\n",
      "\u001b[0;31mNameError\u001b[0m: name 't' is not defined"
     ]
    }
   ],
   "source": [
    "print(t)"
   ]
  },
  {
   "cell_type": "markdown",
   "id": "05e0a4a4",
   "metadata": {},
   "source": [
    "## 1.2.3字典\n"
   ]
  },
  {
   "cell_type": "markdown",
   "id": "e9f596b4",
   "metadata": {},
   "source": [
    "顾名思义，字典就像现实世界中的字典，只要知道一个单词的读音，就能找到它在书中具体的位置！即我们将一个 “键(key)” 与 “值(value)” 相关联，通过键迅速检索到对应的值。要注意键必须是唯一的，这就好比两个单词如果读音一样就会出现歧义一样。\n",
    "\n",
    "字典通过花括号 { } 创建，通过 : 符号区分键与值，通过逗号分隔。下面我们创建一个字典存储联系人的邮箱。"
   ]
  },
  {
   "cell_type": "code",
   "execution_count": 11,
   "id": "131b9dc6",
   "metadata": {},
   "outputs": [
    {
     "name": "stdout",
     "output_type": "stream",
     "text": [
      "{'XiaoHu': 'xiaohu@RNG.com', 'XiaoWei': 'xiaowei@RNG.com', 'XiaoMing': 'xiaoming@RNG.com'}\n"
     ]
    }
   ],
   "source": [
    "ab = {\n",
    "    \"XiaoHu\": \"xiaohu@RNG.com\",\n",
    "    \"XiaoWei\": \"xiaowei@RNG.com\",\n",
    "    \"XiaoMing\": \"xiaoming@RNG.com\"\n",
    "     }\n",
    "\n",
    "print(ab)"
   ]
  },
  {
   "cell_type": "markdown",
   "id": "97974135",
   "metadata": {},
   "source": [
    "字典支持以下操作：\n",
    "- 增：通过关键字 [ ] 可以向列表内增加元素\n",
    "- 删：通过关键字 del 可以删除列表内元素\n",
    "- 查：通过关键字 [ ] 可以查找列表某个位置元素\n",
    "- 改：通过赋值符号 = 可以修改某个位置的元素\n",
    "\n",
    "字典的优点是：\n",
    "- 快速检索到键对应的值\n",
    "- 字典内的键值不存在顺序关系"
   ]
  },
  {
   "cell_type": "markdown",
   "id": "941fb4ad",
   "metadata": {},
   "source": [
    "### 1.2.3.1 增加元素"
   ]
  },
  {
   "cell_type": "code",
   "execution_count": 12,
   "id": "dcf01686",
   "metadata": {},
   "outputs": [
    {
     "name": "stdout",
     "output_type": "stream",
     "text": [
      "{'XiaoHu': 'xiaohu@RNG.com', 'XiaoWei': 'xiaowei@RNG.com', 'XiaoMing': 'xiaoming@RNG.com', 'Cryin': 'cryin@RNG.com'}\n"
     ]
    }
   ],
   "source": [
    "## 通过 [] 关键字 与赋值符号 = 向字典添加新的元素\n",
    "ab['Cryin'] = \"cryin@RNG.com\"\n",
    "print(ab)"
   ]
  },
  {
   "cell_type": "markdown",
   "id": "d0ec7dbf",
   "metadata": {},
   "source": [
    "虽然添加到了最后面 但是dict是个无序数据结构"
   ]
  },
  {
   "cell_type": "markdown",
   "id": "ef340c1f",
   "metadata": {},
   "source": [
    "### 1.2.3.2 删除元素"
   ]
  },
  {
   "cell_type": "code",
   "execution_count": 13,
   "id": "44ac1dba",
   "metadata": {},
   "outputs": [
    {
     "name": "stdout",
     "output_type": "stream",
     "text": [
      "{'XiaoHu': 'xiaohu@RNG.com', 'XiaoWei': 'xiaowei@RNG.com', 'Cryin': 'cryin@RNG.com'}\n"
     ]
    }
   ],
   "source": [
    "del ab[\"XiaoMing\"]\n",
    "print(ab)\n"
   ]
  },
  {
   "cell_type": "markdown",
   "id": "02d0fc36",
   "metadata": {},
   "source": [
    "### 1.2.3.3 查找元素"
   ]
  },
  {
   "cell_type": "code",
   "execution_count": 14,
   "id": "889afd57",
   "metadata": {},
   "outputs": [
    {
     "name": "stdout",
     "output_type": "stream",
     "text": [
      "xiaohu@RNG.com\n"
     ]
    }
   ],
   "source": [
    "print(ab[\"XiaoHu\"])## 查找key对应的value"
   ]
  },
  {
   "cell_type": "code",
   "execution_count": 16,
   "id": "1c97fa4e",
   "metadata": {},
   "outputs": [
    {
     "name": "stdout",
     "output_type": "stream",
     "text": [
      "True\n",
      "False\n"
     ]
    }
   ],
   "source": [
    "## 通过 in 关键字可以查找某个键是否在字典中\n",
    "print(\"XiaoHu\" in ab)\n",
    "print('UZI' in ab)"
   ]
  },
  {
   "cell_type": "code",
   "execution_count": 17,
   "id": "9b05b147",
   "metadata": {},
   "outputs": [
    {
     "name": "stdout",
     "output_type": "stream",
     "text": [
      "<class 'dict'>\n"
     ]
    }
   ],
   "source": [
    "print(type(ab))"
   ]
  },
  {
   "cell_type": "markdown",
   "id": "6b685407",
   "metadata": {},
   "source": [
    "###  1.2.3.4 修改元素"
   ]
  },
  {
   "cell_type": "code",
   "execution_count": 18,
   "id": "b16523d5",
   "metadata": {},
   "outputs": [
    {
     "name": "stdout",
     "output_type": "stream",
     "text": [
      "{'XiaoHu': 'aaa', 'XiaoWei': 'xiaowei@RNG.com', 'Cryin': 'cryin@RNG.com'}\n"
     ]
    }
   ],
   "source": [
    "ab[\"XiaoHu\"] = \"aaa\"\n",
    "print(ab)"
   ]
  },
  {
   "cell_type": "code",
   "execution_count": 19,
   "id": "37cf4b6c",
   "metadata": {},
   "outputs": [
    {
     "name": "stdout",
     "output_type": "stream",
     "text": [
      "dict_keys(['XiaoHu', 'XiaoWei', 'Cryin'])\n"
     ]
    }
   ],
   "source": [
    "## 通过keys()这个类对象方法查看dict中有哪些key\n",
    "print(ab.keys())"
   ]
  },
  {
   "cell_type": "markdown",
   "id": "757045c3",
   "metadata": {},
   "source": [
    "### 1.2.3.5 小例子"
   ]
  },
  {
   "cell_type": "code",
   "execution_count": 20,
   "id": "e9820d62",
   "metadata": {},
   "outputs": [
    {
     "name": "stdout",
     "output_type": "stream",
     "text": [
      "{'XiaoHu': 65, 'XiaoMing': 80, 'XiaoWei': 95}\n",
      "{'XiaoHu': 55, 'XiaoMing': 92, 'XiaoWei': 98}\n"
     ]
    }
   ],
   "source": [
    "## Task 1 建立学生信息管理系统\n",
    "\n",
    "Math_scores = {}\n",
    "Math_scores['XiaoHu'] = 65\n",
    "Math_scores['XiaoMing'] = 80\n",
    "Math_scores['XiaoWei'] = 95\n",
    "\n",
    "Chinese_scores = {}\n",
    "Chinese_scores['XiaoHu'] = 55\n",
    "Chinese_scores['XiaoMing'] = 92\n",
    "Chinese_scores['XiaoWei'] = 98\n",
    "\n",
    "print(Math_scores)\n",
    "print(Chinese_scores)"
   ]
  },
  {
   "cell_type": "code",
   "execution_count": 21,
   "id": "43666385",
   "metadata": {},
   "outputs": [
    {
     "name": "stdout",
     "output_type": "stream",
     "text": [
      "{'XiaoHu': 95, 'XiaoMing': 75, 'XiaoWei': 92}\n",
      "{'XiaoHu': 85, 'XiaoMing': 71, 'XiaoWei': 93}\n"
     ]
    }
   ],
   "source": [
    "## Task 2 根据本次期末考试的成绩更新系统\n",
    "\n",
    "Math_scores['XiaoHu'] = 95\n",
    "Math_scores['XiaoMing'] = 75\n",
    "Math_scores['XiaoWei'] = 92\n",
    "\n",
    "Chinese_scores = {}\n",
    "Chinese_scores['XiaoHu'] = 85\n",
    "Chinese_scores['XiaoMing'] = 71\n",
    "Chinese_scores['XiaoWei'] = 93\n",
    "\n",
    "print(Math_scores)\n",
    "print(Chinese_scores)"
   ]
  },
  {
   "cell_type": "code",
   "execution_count": 22,
   "id": "71d88999",
   "metadata": {},
   "outputs": [
    {
     "name": "stdout",
     "output_type": "stream",
     "text": [
      "{'XiaoHu': 95, 'XiaoWei': 92}\n",
      "{'XiaoHu': 85, 'XiaoWei': 93}\n"
     ]
    }
   ],
   "source": [
    "## Task 3 删除 XiaoMing 的信息\n",
    "\n",
    "del Math_scores['XiaoMing']\n",
    "del Chinese_scores['XiaoMing']\n",
    "\n",
    "print(Math_scores)\n",
    "print(Chinese_scores)"
   ]
  },
  {
   "cell_type": "code",
   "execution_count": 23,
   "id": "fe2a11d8",
   "metadata": {},
   "outputs": [
    {
     "name": "stdout",
     "output_type": "stream",
     "text": [
      "{'XiaoHu': 95, 'XiaoWei': 92, 'Cryin': 87}\n",
      "{'XiaoHu': 85, 'XiaoWei': 93, 'Cryin': 88}\n"
     ]
    }
   ],
   "source": [
    "## Task 4 录入 Cryin 的信息\n",
    "\n",
    "Math_scores['Cryin'] = 87\n",
    "Chinese_scores['Cryin'] = 88\n",
    "\n",
    "print(Math_scores)\n",
    "print(Chinese_scores)"
   ]
  },
  {
   "cell_type": "markdown",
   "id": "f8b7d337",
   "metadata": {},
   "source": [
    "在我们的小例子中可以观察到，字典构建的学生管理系统避免了查找元素所在位置的操作，这是字典根据“键”可以迅速找到“值”的特性决定的。"
   ]
  },
  {
   "cell_type": "markdown",
   "id": "4966aa1f",
   "metadata": {},
   "source": [
    "## 1.2.4 集合"
   ]
  },
  {
   "cell_type": "markdown",
   "id": "9cafeac4",
   "metadata": {},
   "source": [
    "集合是用来存储无序的元素集合。通常我们只考虑元素的存在，而不考虑元素的顺序或出现次数时使用集合。\n",
    "\n",
    "集合与字典一样也通过花括号创建，但不存在 : 分隔符号。例如用集合表示中国的四个直辖市，它们无需考虑顺序与出现次数。"
   ]
  },
  {
   "cell_type": "code",
   "execution_count": 26,
   "id": "03b2481b",
   "metadata": {},
   "outputs": [
    {
     "name": "stdout",
     "output_type": "stream",
     "text": [
      "{'Shanghai', 'Tianjin', 'Beijing', 'Chongqing'}\n"
     ]
    }
   ],
   "source": [
    "# 集合不允许存在重复元素，集合接口可以为我们自动去重\n",
    "municipalities = { \"Beijing\", \"Shanghai\",\"Chongqing\",\"Tianjin\", \"Chongqing\" }\n",
    "print(municipalities)"
   ]
  },
  {
   "cell_type": "code",
   "execution_count": 27,
   "id": "ff3ee99d",
   "metadata": {},
   "outputs": [
    {
     "name": "stdout",
     "output_type": "stream",
     "text": [
      "{1, 2, 3, 4, 5}\n"
     ]
    }
   ],
   "source": [
    "# 创建一个集合\n",
    "s = {1,2,3,4,5}\n",
    "print(s)"
   ]
  },
  {
   "cell_type": "markdown",
   "id": "8a7f1b9c",
   "metadata": {},
   "source": [
    "怎么创建一个空的set呢?"
   ]
  },
  {
   "cell_type": "code",
   "execution_count": 28,
   "id": "05d09384",
   "metadata": {},
   "outputs": [
    {
     "name": "stdout",
     "output_type": "stream",
     "text": [
      "<class 'dict'>\n"
     ]
    }
   ],
   "source": [
    "empty_set = {}\n",
    "print(type(empty_set))"
   ]
  },
  {
   "cell_type": "markdown",
   "id": "1540eb57",
   "metadata": {},
   "source": [
    "显然这是一个dict(这种创建方式被dict抢占了)"
   ]
  },
  {
   "cell_type": "code",
   "execution_count": 30,
   "id": "68a4bd4e",
   "metadata": {},
   "outputs": [
    {
     "name": "stdout",
     "output_type": "stream",
     "text": [
      "<class 'set'>\n"
     ]
    }
   ],
   "source": [
    "## 正确创建空set的方式\n",
    "empty_set = set()\n",
    "print(type(empty_set))"
   ]
  },
  {
   "cell_type": "markdown",
   "id": "fa18dc5d",
   "metadata": {},
   "source": [
    "集合支持以下操作：\n",
    "- 增：通过函数 add 可以向集合内增加元素\n",
    "- 删：通过函数 remove 可以删除集合内元素\n",
    "- 查：通过关键字 in 可以查找某个元素是否在集合内\n",
    "\n",
    "集合的优点是：\n",
    "- 支持数学集合操作\n",
    "- 快速检索某个元素是否在集合内\n",
    "- 集合内的键值不存在顺序关系"
   ]
  },
  {
   "cell_type": "code",
   "execution_count": 31,
   "id": "d76fb469",
   "metadata": {},
   "outputs": [
    {
     "name": "stdout",
     "output_type": "stream",
     "text": [
      "False\n"
     ]
    }
   ],
   "source": [
    "print(10 in s)"
   ]
  },
  {
   "cell_type": "code",
   "execution_count": 32,
   "id": "0912d28a",
   "metadata": {},
   "outputs": [
    {
     "name": "stdout",
     "output_type": "stream",
     "text": [
      "{1, 2, 3, 4, 5, 100}\n"
     ]
    }
   ],
   "source": [
    "s.add(100)\n",
    "print(s)"
   ]
  },
  {
   "cell_type": "code",
   "execution_count": 33,
   "id": "01e254e3",
   "metadata": {},
   "outputs": [
    {
     "name": "stdout",
     "output_type": "stream",
     "text": [
      "{2, 3, 4, 5, 100}\n"
     ]
    }
   ],
   "source": [
    "s.remove(1) ## 删除的直接是set中的element \n",
    "print(s)"
   ]
  },
  {
   "cell_type": "markdown",
   "id": "4142952a",
   "metadata": {},
   "source": [
    "### 1.2.4.4 set支持数学操作\n",
    "集合的一大特点是支持数学操作，其中包括求集合的 并集、交集、亦或 操作。"
   ]
  },
  {
   "cell_type": "code",
   "execution_count": null,
   "id": "f08c4fcb",
   "metadata": {},
   "outputs": [],
   "source": []
  },
  {
   "cell_type": "code",
   "execution_count": 35,
   "id": "d0bcfa1d",
   "metadata": {},
   "outputs": [
    {
     "name": "stdout",
     "output_type": "stream",
     "text": [
      "{2, 3, 4, 5, 100}\n",
      "{3, 4, 5, 6, 7}\n",
      "{2, 3, 4, 5, 100, 6, 7}\n"
     ]
    }
   ],
   "source": [
    "## 并集操作\n",
    "s2 = {3,4,5,6,7}\n",
    "print(s)\n",
    "print(s2)\n",
    "print(s | s2)"
   ]
  },
  {
   "cell_type": "code",
   "execution_count": 36,
   "id": "b81e88e8",
   "metadata": {},
   "outputs": [
    {
     "name": "stdout",
     "output_type": "stream",
     "text": [
      "{3, 4, 5}\n"
     ]
    }
   ],
   "source": [
    "## 交集操作\n",
    "print(s & s2)"
   ]
  },
  {
   "cell_type": "code",
   "execution_count": 37,
   "id": "0eaaab7c",
   "metadata": {},
   "outputs": [
    {
     "name": "stdout",
     "output_type": "stream",
     "text": [
      "{2, 100, 6, 7}\n"
     ]
    }
   ],
   "source": [
    "## 亦或操作(多个set中不重复的部分)\n",
    "print(s ^ s2)"
   ]
  },
  {
   "cell_type": "code",
   "execution_count": null,
   "id": "8b1c51cb",
   "metadata": {},
   "outputs": [],
   "source": []
  }
 ],
 "metadata": {
  "kernelspec": {
   "display_name": "Python 3 (ipykernel)",
   "language": "python",
   "name": "python3"
  },
  "language_info": {
   "codemirror_mode": {
    "name": "ipython",
    "version": 3
   },
   "file_extension": ".py",
   "mimetype": "text/x-python",
   "name": "python",
   "nbconvert_exporter": "python",
   "pygments_lexer": "ipython3",
   "version": "3.8.16"
  }
 },
 "nbformat": 4,
 "nbformat_minor": 5
}
